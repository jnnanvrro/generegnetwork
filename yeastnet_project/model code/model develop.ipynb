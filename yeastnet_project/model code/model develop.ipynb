{
 "cells": [
  {
   "cell_type": "markdown",
   "metadata": {
    "deletable": true,
    "editable": true
   },
   "source": [
    "Here we are developing a simple model for the gene regulatory network.\n",
    "\n",
    "First, let $\\vec{m}$ be a column vector with individual mRNA expression level on each entry. Let $k_{ac}$ and $k_{in}$ be the parameter for the level of influence of TF on the gene (either activate or inhibite). Furthermore, Let $A_{ac}$ and $A_{in}$ be the adjacency matrix that descripbe the interaction relationship (either activate or inhibite) between each gene. Finally, define $\\vec{v}$ be a heaviside function that switched on at time 0 for certain \"heat sensitive\" gene.\n",
    "\n",
    "Then we can write down the dynamics of the system as:\n",
    "\n",
    "$$\n",
    "\\frac{d\\vec{m}}{dt} = (k_{ac}A_{ac} - k_{in}A_{in} - I)\\vec{m} + \\vec{v}(t).\n",
    "$$\n",
    "\n",
    "Note that the identity matrix act as a self-regulating term.\n",
    "\n",
    "Let's define: $D = k_{ac}A_{ac} - k_{in}A_{in} - I$. Then the system can be simplied as:\n",
    "\n",
    "$$\n",
    "\\frac{d\\vec{m}}{dt} = D\\vec{m} + \\vec{v}(t).\n",
    "$$\n",
    "\n",
    "With heaviside function we can solve the system using matrix exponential. Given initial condition: $\\vec{m}(0) = \\vec{m_0}$. Then the solution is:\n",
    "\n",
    "$$\n",
    "\\vec{m}(t) = e^{tD} \\vec{m_0} + \\int_{0}^{t} e^{(t-s)D}\\vec{v}(s)ds.\n",
    "$$\n",
    "\n",
    "Since we are dealing with heat shock, we don't have to have the heaviside function. We can just have the initial condition indicating which gene is \"switched on\" when experiencing heat shock. Then the system is homogeneous and the solution can be expressed as:\n",
    "\n",
    "$$\n",
    "\\vec{m}(t) = e^{tD} \\vec{m_0}.\n",
    "$$\n",
    "\n",
    "The time $t$ can be discrete. We can look at time for time point mentioned in the time course data. Which is 5, 10, 15, 20, 30, 40, 60, 80 minutes. We can add another parameter to scale the time if needed."
   ]
  },
  {
   "cell_type": "code",
   "execution_count": 11,
   "metadata": {
    "collapsed": false
   },
   "outputs": [],
   "source": [
    "from scipy.sparse import csc_matrix\n",
    "from scipy.sparse.linalg import expm\n",
    "import pandas as pd\n",
    "import numpy as np"
   ]
  },
  {
   "cell_type": "code",
   "execution_count": 18,
   "metadata": {
    "collapsed": false,
    "deletable": true,
    "editable": true
   },
   "outputs": [
    {
     "ename": "NameError",
     "evalue": "name 'Ac' is not defined",
     "output_type": "error",
     "traceback": [
      "\u001b[0;31m---------------------------------------------------------------------------\u001b[0m",
      "\u001b[0;31mNameError\u001b[0m                                 Traceback (most recent call last)",
      "\u001b[0;32m<ipython-input-18-c452cb056868>\u001b[0m in \u001b[0;36m<module>\u001b[0;34m()\u001b[0m\n\u001b[1;32m      1\u001b[0m \u001b[0;31m#input: 1) ka, 2) ki, 3) Aa, 4) Ai, 5)m, 6)v, 7) m_i\u001b[0m\u001b[0;34m\u001b[0m\u001b[0;34m\u001b[0m\u001b[0m\n\u001b[1;32m      2\u001b[0m \u001b[0;34m\u001b[0m\u001b[0m\n\u001b[0;32m----> 3\u001b[0;31m \u001b[0mdim\u001b[0m \u001b[0;34m=\u001b[0m \u001b[0mlen\u001b[0m\u001b[0;34m(\u001b[0m\u001b[0mAc\u001b[0m\u001b[0;34m)\u001b[0m\u001b[0;34m\u001b[0m\u001b[0m\n\u001b[0m\u001b[1;32m      4\u001b[0m \u001b[0;34m\u001b[0m\u001b[0m\n\u001b[1;32m      5\u001b[0m \u001b[0mD\u001b[0m \u001b[0;34m=\u001b[0m \u001b[0mka\u001b[0m\u001b[0;34m*\u001b[0m\u001b[0mAc\u001b[0m \u001b[0;34m-\u001b[0m \u001b[0mki\u001b[0m\u001b[0;34m*\u001b[0m\u001b[0mAi\u001b[0m \u001b[0;34m-\u001b[0m \u001b[0mnp\u001b[0m\u001b[0;34m.\u001b[0m\u001b[0midentity\u001b[0m\u001b[0;34m(\u001b[0m\u001b[0mdim\u001b[0m\u001b[0;34m)\u001b[0m\u001b[0;34m\u001b[0m\u001b[0m\n",
      "\u001b[0;31mNameError\u001b[0m: name 'Ac' is not defined"
     ]
    }
   ],
   "source": [
    "#input: 1) ka, 2) ki, 3) Aa, 4) Ai, 5)m, 6)v, 7) m_i\n",
    "\n",
    "dim = len(Ac)\n",
    "\n",
    "D = ka*Ac - ki*Ai - np.identity(dim)\n",
    "\n",
    "#Let's first look at the homogeneous solution for discrete time (for time points in the time-course data):\n",
    "\n",
    "t_list = np.array([5,10,15,20,30,40,60,80])\n",
    "\n",
    "mat_exp = [expm(t*A) for t in t_list]\n",
    "sol = [mat_exp[i]*m_i for i in range(0, 8)]"
   ]
  },
  {
   "cell_type": "code",
   "execution_count": 36,
   "metadata": {
    "collapsed": false
   },
   "outputs": [
    {
     "name": "stderr",
     "output_type": "stream",
     "text": [
      "/Library/Frameworks/Python.framework/Versions/3.6/lib/python3.6/site-packages/scipy/sparse/compressed.py:742: SparseEfficiencyWarning: Changing the sparsity structure of a csc_matrix is expensive. lil_matrix is more efficient.\n",
      "  SparseEfficiencyWarning)\n"
     ]
    },
    {
     "ename": "IndexError",
     "evalue": "list index out of range",
     "output_type": "error",
     "traceback": [
      "\u001b[0;31m---------------------------------------------------------------------------\u001b[0m",
      "\u001b[0;31mIndexError\u001b[0m                                Traceback (most recent call last)",
      "\u001b[0;32m<ipython-input-36-f35851da24de>\u001b[0m in \u001b[0;36m<module>\u001b[0;34m()\u001b[0m\n\u001b[1;32m      1\u001b[0m \u001b[0mt_list\u001b[0m \u001b[0;34m=\u001b[0m \u001b[0mnp\u001b[0m\u001b[0;34m.\u001b[0m\u001b[0marray\u001b[0m\u001b[0;34m(\u001b[0m\u001b[0;34m[\u001b[0m\u001b[0;36m5\u001b[0m\u001b[0;34m,\u001b[0m\u001b[0;36m10\u001b[0m\u001b[0;34m,\u001b[0m\u001b[0;36m15\u001b[0m\u001b[0;34m,\u001b[0m\u001b[0;36m20\u001b[0m\u001b[0;34m,\u001b[0m\u001b[0;36m30\u001b[0m\u001b[0;34m,\u001b[0m\u001b[0;36m40\u001b[0m\u001b[0;34m,\u001b[0m\u001b[0;36m60\u001b[0m\u001b[0;34m,\u001b[0m\u001b[0;36m80\u001b[0m\u001b[0;34m]\u001b[0m\u001b[0;34m)\u001b[0m\u001b[0;34m\u001b[0m\u001b[0m\n\u001b[1;32m      2\u001b[0m \u001b[0mhaha\u001b[0m \u001b[0;34m=\u001b[0m \u001b[0;34m[\u001b[0m\u001b[0mexpm\u001b[0m\u001b[0;34m(\u001b[0m\u001b[0mt\u001b[0m\u001b[0;34m*\u001b[0m\u001b[0mA\u001b[0m\u001b[0;34m)\u001b[0m \u001b[0;32mfor\u001b[0m \u001b[0mt\u001b[0m \u001b[0;32min\u001b[0m \u001b[0mt_list\u001b[0m\u001b[0;34m]\u001b[0m\u001b[0;34m\u001b[0m\u001b[0m\n\u001b[0;32m----> 3\u001b[0;31m \u001b[0mhaha\u001b[0m\u001b[0;34m[\u001b[0m\u001b[0;36m8\u001b[0m\u001b[0;34m]\u001b[0m\u001b[0;34m\u001b[0m\u001b[0m\n\u001b[0m",
      "\u001b[0;31mIndexError\u001b[0m: list index out of range"
     ]
    }
   ],
   "source": [
    "#The script below is for testing only\n",
    "\n",
    "A = csc_matrix([[1, 0, 0], [0, 2, 0], [0, 0, 3]])\n",
    "A.todense()\n",
    "Aexp = expm(A)\n",
    "Aexp\n",
    "Aexp.todense()\n",
    "\n",
    "t_list = np.array([5,10,15,20,30,40,60,80])\n",
    "haha = [expm(t*A) for t in t_list]\n",
    "haha[8]"
   ]
  }
 ],
 "metadata": {
  "kernelspec": {
   "display_name": "Python 3",
   "language": "python",
   "name": "python3"
  },
  "language_info": {
   "codemirror_mode": {
    "name": "ipython",
    "version": 3
   },
   "file_extension": ".py",
   "mimetype": "text/x-python",
   "name": "python",
   "nbconvert_exporter": "python",
   "pygments_lexer": "ipython3",
   "version": "3.6.0"
  }
 },
 "nbformat": 4,
 "nbformat_minor": 2
}
