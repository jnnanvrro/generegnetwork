{
 "cells": [
  {
   "cell_type": "markdown",
   "metadata": {},
   "source": [
    "# Toy networks"
   ]
  },
  {
   "cell_type": "code",
   "execution_count": 2,
   "metadata": {},
   "outputs": [],
   "source": [
    "import networkx as nx\n",
    "import numpy as np\n",
    "from matplotlib import pyplot as plt"
   ]
  },
  {
   "cell_type": "markdown",
   "metadata": {},
   "source": [
    "## Introduction\n",
    "\n",
    "These are some toy network examples we can use to start doing simulations. I'm using the library **networkx**, which provides lots of functionality and makes it easy to manipulate nodes/edges, get subnetworks, etc. For this to work you need to install it first. Also make sure you have the library **matplotlib** for the plotting to work.\n",
    "\n",
    "The networks are weighted, so we can do a more realistic simulation if we want to (and compare with the old one). For convenience, I also include a function that turns it into an unweighted network (where edges can just be 1 and -1).\n",
    "\n",
    "Currently, there are four toy examples implemented. You can choose which example you want by the keyword \"which\" in the toy_graph funcion."
   ]
  },
  {
   "cell_type": "code",
   "execution_count": 3,
   "metadata": {},
   "outputs": [],
   "source": [
    "def get_toy_graph(which='simplest'):\n",
    "    '''\n",
    "    Returns networkx object of toy examples to test model on. \n",
    "    \n",
    "    which: Choose which toy example to return. Can be one of 'simplest', 'simple', 'feedback', 'multiple_regulation'\n",
    "    and 'multiple_regulation_feedback'.\n",
    "    '''\n",
    "    G = nx.DiGraph()\n",
    "    \n",
    "    # May the gods of programming languages forgive me for this shitty code.\n",
    "    if which == 'simplest':\n",
    "        G.add_edge('TF', 'gene1', weight=0.8)\n",
    "        G.add_edge('TF', 'gene2', weight=-1.2)\n",
    "    elif which == 'simple':\n",
    "        G.add_edge('TF1.1', 'TF2.1', weight=0.8)\n",
    "        G.add_edge('TF1.1', 'TF2.2', weight=-1.2)\n",
    "        G.add_edge('TF2.1', 'gene1', weight=1.5)\n",
    "        G.add_edge('TF2.1', 'gene2', weight=-0.4)\n",
    "        G.add_edge('TF2.2', 'gene3', weight=0.9)\n",
    "        G.add_edge('TF2.2', 'gene4', weight=-2.2)\n",
    "    elif which == 'feedback':\n",
    "        G.add_edge('TF1.1', 'TF2.1', weight=0.8)\n",
    "        G.add_edge('TF1.1', 'TF2.2', weight=-1.2)\n",
    "        G.add_edge('TF2.1', 'gene1', weight=1.5)\n",
    "        G.add_edge('TF2.1', 'gene2', weight=-0.4)\n",
    "        G.add_edge('TF2.2', 'gene3', weight=0.9)\n",
    "        G.add_edge('TF2.2', 'gene4', weight=-2.2)\n",
    "        G.add_edge('TF2.2', 'TF1.1', weight=-1.5) # Feedback.\n",
    "    elif which == 'multiple_regulation':\n",
    "        G.add_edge('TF1.1', 'TF2.1', weight=0.8)\n",
    "        G.add_edge('TF1.1', 'TF2.2', weight=-1.2)\n",
    "        G.add_edge('TF2.1', 'gene1', weight=1.5)\n",
    "        G.add_edge('TF2.1', 'gene2', weight=-0.4)\n",
    "        G.add_edge('TF2.2', 'gene3', weight=0.9)\n",
    "        G.add_edge('TF2.2', 'gene4', weight=-2.2)\n",
    "        G.add_edge('TF2.2', 'gene2', weight=-0.7)\n",
    "        G.add_edge('TF2.1', 'gene3', weight=-0.7)\n",
    "    elif which == 'multiple_regulation_feedback':\n",
    "        G.add_edge('TF1.1', 'TF2.1', weight=0.8)\n",
    "        G.add_edge('TF1.1', 'TF2.2', weight=-1.2)\n",
    "        G.add_edge('TF2.1', 'gene1', weight=1.5)\n",
    "        G.add_edge('TF2.1', 'gene2', weight=-0.4)\n",
    "        G.add_edge('TF2.2', 'gene3', weight=0.9)\n",
    "        G.add_edge('TF2.2', 'gene4', weight=-2.2)\n",
    "        G.add_edge('TF2.2', 'gene2', weight=-0.7)\n",
    "        G.add_edge('TF2.1', 'gene3', weight=-0.7)\n",
    "        G.add_edge('gene3', 'TF1.1', weight=-0.5)\n",
    "    return G\n",
    "\n",
    "def discretize_edges(G):\n",
    "    '''\n",
    "    Takes a graph with edge weights and turns it into the discretized\n",
    "    version, where edges are {-1,0, 1}.\n",
    "    \n",
    "    returns: networkx DiGraph with discretized weight.\n",
    "    '''\n",
    "    H = G.copy()\n",
    "    for u,v,d in H.edges(data=True):\n",
    "        d['weight'] = np.sign(d['weight'])\n",
    "    return H\n",
    "\n",
    "def split_adj_matrix(A):\n",
    "    '''\n",
    "    Takes in matrix of 1 and -1 and returns two matrices\n",
    "    '''\n",
    "    Aa = np.array((A.toarray() == 1), dtype = 'int32') # Consider making this float64 instead.\n",
    "    Ai = np.array((A.toarray() == -1), dtype = 'int32')\n",
    "    return Aa, Ai"
   ]
  },
  {
   "cell_type": "code",
   "execution_count": 15,
   "metadata": {},
   "outputs": [],
   "source": [
    "def visualize(G, node_color='k'):\n",
    "    edges, weights = zip(*nx.get_edge_attributes(G,'weight').items())\n",
    "\n",
    "    pos = nx.spring_layout(G, weight=None) # get edge positions\n",
    "    #pos = nx.graphviz_layout(G)\n",
    "    nx.draw(G, pos, node_color=node_color, edgelist=edges,\n",
    "            edge_color=weights, node_cmap=plt.cm.coolwarm, \n",
    "            edge_cmap=plt.cm.coolwarm)\n",
    "    # May want to try other colormaps.\n",
    "    plt.show()\n",
    "    "
   ]
  },
  {
   "cell_type": "markdown",
   "metadata": {},
   "source": [
    "## Example"
   ]
  },
  {
   "cell_type": "markdown",
   "metadata": {},
   "source": [
    "### Visualization"
   ]
  },
  {
   "cell_type": "markdown",
   "metadata": {},
   "source": [
    "The toy examples have continuous edges. You can plot the example graphs as follows. "
   ]
  },
  {
   "cell_type": "code",
   "execution_count": 68,
   "metadata": {},
   "outputs": [
    {
     "data": {
      "image/png": "[encoded data removed]",
      "text/plain": [
       "<matplotlib.figure.Figure at 0x7f651f54cda0>"
      ]
     },
     "metadata": {},
     "output_type": "display_data"
    }
   ],
   "source": [
    "G = get_toy_graph('simple') # simplest is even smaller\n",
    "visualize(G)"
   ]
  },
  {
   "cell_type": "markdown",
   "metadata": {},
   "source": [
    "The edge colors in the visualization above are not yet \"centered\" at zero (I think the automatic thing is to use the middle in-between the endpoints of the data as the blue to red transition point). I still need to figure out how to force it to be 0.\n",
    "\n",
    "You can also get the discretized version of the graph like this:"
   ]
  },
  {
   "cell_type": "code",
   "execution_count": 73,
   "metadata": {},
   "outputs": [
    {
     "data": {
      "image/png": "[encoded data removed]",
      "text/plain": [
       "<matplotlib.figure.Figure at 0x7f651f7c35c0>"
      ]
     },
     "metadata": {},
     "output_type": "display_data"
    }
   ],
   "source": [
    "H = discretize_edges(G)\n",
    "visualize(H)"
   ]
  },
  {
   "cell_type": "code",
   "execution_count": 26,
   "metadata": {},
   "outputs": [
    {
     "data": {
      "image/png": "[encoded data removed]",
      "text/plain": [
       "<matplotlib.figure.Figure at 0x7f2112934fd0>"
      ]
     },
     "metadata": {},
     "output_type": "display_data"
    }
   ],
   "source": [
    "G = get_toy_graph('multiple_regulation_feedback') # simplest is even smaller\n",
    "visualize(G)"
   ]
  },
  {
   "cell_type": "code",
   "execution_count": 28,
   "metadata": {},
   "outputs": [
    {
     "data": {
      "image/png": "[encoded data removed]",
      "text/plain": [
       "<matplotlib.figure.Figure at 0x7f2112690160>"
      ]
     },
     "metadata": {},
     "output_type": "display_data"
    }
   ],
   "source": [
    "visualize(G, node_color=[0, 0.1, -0.5, 0.6, 0.3, -0.7, 0.8])"
   ]
  },
  {
   "cell_type": "markdown",
   "metadata": {},
   "source": [
    "### Weight and adjacency matrix\n",
    "\n",
    "We can get the weight matrix by simply doing"
   ]
  },
  {
   "cell_type": "code",
   "execution_count": 74,
   "metadata": {},
   "outputs": [
    {
     "name": "stdout",
     "output_type": "stream",
     "text": [
      "  (0, 1)\t0.8\n",
      "  (0, 2)\t-1.2\n",
      "  (1, 3)\t1.5\n",
      "  (1, 4)\t-0.4\n",
      "  (2, 5)\t0.9\n",
      "  (2, 6)\t-2.2\n"
     ]
    }
   ],
   "source": [
    "W = nx.adjacency_matrix(G)\n",
    "print(W)"
   ]
  },
  {
   "cell_type": "markdown",
   "metadata": {},
   "source": [
    "The reason the output looks a little weird is that by default networkx uses a special type of numpy array that's optimized for sparse matrices. If necessary, it's simple to convert it to the regular numpy array."
   ]
  },
  {
   "cell_type": "code",
   "execution_count": 86,
   "metadata": {},
   "outputs": [
    {
     "data": {
      "text/plain": [
       "array([[ 0. ,  0.8, -1.2,  0. ,  0. ,  0. ,  0. ],\n",
       "       [ 0. ,  0. ,  0. ,  1.5, -0.4,  0. ,  0. ],\n",
       "       [ 0. ,  0. ,  0. ,  0. ,  0. ,  0.9, -2.2],\n",
       "       [ 0. ,  0. ,  0. ,  0. ,  0. ,  0. ,  0. ],\n",
       "       [ 0. ,  0. ,  0. ,  0. ,  0. ,  0. ,  0. ],\n",
       "       [ 0. ,  0. ,  0. ,  0. ,  0. ,  0. ,  0. ],\n",
       "       [ 0. ,  0. ,  0. ,  0. ,  0. ,  0. ,  0. ]])"
      ]
     },
     "execution_count": 86,
     "metadata": {},
     "output_type": "execute_result"
    }
   ],
   "source": [
    "W.toarray()"
   ]
  },
  {
   "cell_type": "markdown",
   "metadata": {},
   "source": [
    "We can get the discretized version in the same way."
   ]
  },
  {
   "cell_type": "code",
   "execution_count": 83,
   "metadata": {},
   "outputs": [
    {
     "name": "stdout",
     "output_type": "stream",
     "text": [
      "  (0, 1)\t1.0\n",
      "  (0, 2)\t-1.0\n",
      "  (1, 3)\t1.0\n",
      "  (1, 4)\t-1.0\n",
      "  (2, 5)\t1.0\n",
      "  (2, 6)\t-1.0\n"
     ]
    }
   ],
   "source": [
    "A = nx.adjacency_matrix(H)\n",
    "print(A)"
   ]
  },
  {
   "cell_type": "code",
   "execution_count": 93,
   "metadata": {},
   "outputs": [
    {
     "data": {
      "text/plain": [
       "array([[ 0.,  1., -1.,  0.,  0.,  0.,  0.],\n",
       "       [ 0.,  0.,  0.,  1., -1.,  0.,  0.],\n",
       "       [ 0.,  0.,  0.,  0.,  0.,  1., -1.],\n",
       "       [ 0.,  0.,  0.,  0.,  0.,  0.,  0.],\n",
       "       [ 0.,  0.,  0.,  0.,  0.,  0.,  0.],\n",
       "       [ 0.,  0.,  0.,  0.,  0.,  0.,  0.],\n",
       "       [ 0.,  0.,  0.,  0.,  0.,  0.,  0.]])"
      ]
     },
     "execution_count": 93,
     "metadata": {},
     "output_type": "execute_result"
    }
   ],
   "source": [
    "A.toarray()"
   ]
  },
  {
   "cell_type": "markdown",
   "metadata": {},
   "source": [
    "I included a function that splits this matrix into its activators and inhibitors. It may be a little inefficient, since it converts the matrices to the non-sparse form at the moment, but I'm having trouble getting it to work for the sparse versions for some reason."
   ]
  },
  {
   "cell_type": "code",
   "execution_count": 99,
   "metadata": {},
   "outputs": [],
   "source": [
    "Aa, Ai = split_adj_matrix(A)"
   ]
  },
  {
   "cell_type": "code",
   "execution_count": 100,
   "metadata": {},
   "outputs": [
    {
     "data": {
      "text/plain": [
       "array([[0, 1, 0, 0, 0, 0, 0],\n",
       "       [0, 0, 0, 1, 0, 0, 0],\n",
       "       [0, 0, 0, 0, 0, 1, 0],\n",
       "       [0, 0, 0, 0, 0, 0, 0],\n",
       "       [0, 0, 0, 0, 0, 0, 0],\n",
       "       [0, 0, 0, 0, 0, 0, 0],\n",
       "       [0, 0, 0, 0, 0, 0, 0]], dtype=int32)"
      ]
     },
     "execution_count": 100,
     "metadata": {},
     "output_type": "execute_result"
    }
   ],
   "source": [
    "Aa"
   ]
  },
  {
   "cell_type": "code",
   "execution_count": 101,
   "metadata": {},
   "outputs": [
    {
     "data": {
      "text/plain": [
       "array([[0, 0, 1, 0, 0, 0, 0],\n",
       "       [0, 0, 0, 0, 1, 0, 0],\n",
       "       [0, 0, 0, 0, 0, 0, 1],\n",
       "       [0, 0, 0, 0, 0, 0, 0],\n",
       "       [0, 0, 0, 0, 0, 0, 0],\n",
       "       [0, 0, 0, 0, 0, 0, 0],\n",
       "       [0, 0, 0, 0, 0, 0, 0]], dtype=int32)"
      ]
     },
     "execution_count": 101,
     "metadata": {},
     "output_type": "execute_result"
    }
   ],
   "source": [
    "Ai"
   ]
  },
  {
   "cell_type": "markdown",
   "metadata": {},
   "source": [
    "These should be what we need to put stuff in the model. We should also have a more general function where we can just upload our weight matrix and run a simulation so we can run the \"real\" simulation to compare to the fake one (this should be simple to do)."
   ]
  },
  {
   "cell_type": "markdown",
   "metadata": {},
   "source": [
    "# Model test\n",
    "\n",
    "I coded in a numerical solver for the model, since we need it to work by tomorrow. I still think it's probably worth it to do the analytical solution to speed things up, which will be important for the huge matrix. Nonetheless, this should help us for the purposes of simulating the model for tomorrow's presentation. \n",
    "\n",
    "One thing I noticed is that the matrix that **networkx** gives us by default is the transpose of what we want. We just need to remember to do this when we simulate."
   ]
  },
  {
   "cell_type": "code",
   "execution_count": 55,
   "metadata": {},
   "outputs": [],
   "source": [
    "def f(y, t0, A, u, kf):\n",
    "    return (A - kf * np.identity(len(A))) @ y + u"
   ]
  },
  {
   "cell_type": "code",
   "execution_count": 75,
   "metadata": {},
   "outputs": [
    {
     "name": "stdout",
     "output_type": "stream",
     "text": [
      "[[ 0.   0.   0. ]\n",
      " [ 0.8  0.   0. ]\n",
      " [-1.2  0.   0. ]]\n"
     ]
    }
   ],
   "source": [
    "G = get_toy_graph('simplest')\n",
    "A = nx.adjacency_matrix(G)\n",
    "A = A.toarray()\n",
    "A = A.transpose()\n",
    "print(A)"
   ]
  },
  {
   "cell_type": "code",
   "execution_count": 76,
   "metadata": {},
   "outputs": [
    {
     "data": {
      "image/png": "[encoded data removed]",
      "text/plain": [
       "<matplotlib.figure.Figure at 0x7f21125b57f0>"
      ]
     },
     "metadata": {},
     "output_type": "display_data"
    }
   ],
   "source": [
    "visualize(G)"
   ]
  },
  {
   "cell_type": "code",
   "execution_count": 77,
   "metadata": {},
   "outputs": [
    {
     "data": {
      "text/plain": [
       "array([ 1.,  0.,  0.])"
      ]
     },
     "execution_count": 77,
     "metadata": {},
     "output_type": "execute_result"
    }
   ],
   "source": [
    "u = np.array([1.0] + [0.0] * (len(A) - 1))\n",
    "y0 = [0.0] * len(A)\n",
    "u"
   ]
  },
  {
   "cell_type": "code",
   "execution_count": 78,
   "metadata": {},
   "outputs": [],
   "source": [
    "from scipy.integrate import odeint\n",
    "y = odeint(f, y0=y0,\n",
    "           t=np.array([0, 5, 10, 15, 20, 30, 40, 60, 80]),\n",
    "           args=(A, u, 1.0))"
   ]
  },
  {
   "cell_type": "code",
   "execution_count": 79,
   "metadata": {},
   "outputs": [
    {
     "data": {
      "text/plain": [
       "array([[ 0.        ,  0.        ,  0.        ],\n",
       "       [ 0.99326205,  0.76765785, -1.15148678],\n",
       "       [ 0.9999546 ,  0.79960048, -1.19940072],\n",
       "       [ 0.99999969,  0.79999608, -1.19999413],\n",
       "       [ 1.        ,  0.79999997, -1.19999995],\n",
       "       [ 1.        ,  0.8       , -1.2       ],\n",
       "       [ 1.        ,  0.8       , -1.2       ],\n",
       "       [ 1.        ,  0.8       , -1.2       ],\n",
       "       [ 1.        ,  0.8       , -1.2       ]])"
      ]
     },
     "execution_count": 79,
     "metadata": {},
     "output_type": "execute_result"
    }
   ],
   "source": [
    "y"
   ]
  },
  {
   "cell_type": "code",
   "execution_count": 74,
   "metadata": {},
   "outputs": [
    {
     "data": {
      "text/plain": [
       "array([ 0.        ,  1.05041757,  1.19667673,  1.19995283,  1.19999945,\n",
       "        1.2       ,  1.2       ,  1.2       ,  1.2       ])"
      ]
     },
     "execution_count": 74,
     "metadata": {},
     "output_type": "execute_result"
    }
   ],
   "source": [
    "y[:, 3]"
   ]
  },
  {
   "cell_type": "code",
   "execution_count": null,
   "metadata": {},
   "outputs": [],
   "source": []
  }
 ],
 "metadata": {
  "kernelspec": {
   "display_name": "Python 3",
   "language": "python",
   "name": "python3"
  },
  "language_info": {
   "codemirror_mode": {
    "name": "ipython",
    "version": 3
   },
   "file_extension": ".py",
   "mimetype": "text/x-python",
   "name": "python",
   "nbconvert_exporter": "python",
   "pygments_lexer": "ipython3",
   "version": "3.6.2"
  }
 },
 "nbformat": 4,
 "nbformat_minor": 2
}
