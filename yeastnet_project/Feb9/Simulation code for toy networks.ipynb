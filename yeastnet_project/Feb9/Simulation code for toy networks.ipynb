{
 "cells": [
  {
   "cell_type": "code",
   "execution_count": 26,
   "metadata": {},
   "outputs": [],
   "source": [
    "import shutil\n",
    "import os\n",
    "import networkx as nx\n",
    "import numpy as np\n",
    "\n",
    "from matplotlib import pyplot as plt\n",
    "from scipy.integrate import odeint"
   ]
  },
  {
   "cell_type": "code",
   "execution_count": 27,
   "metadata": {},
   "outputs": [],
   "source": [
    "def get_toy_graph(which='simplest'):\n",
    "    '''\n",
    "    Returns networkx object of toy examples to test model on. \n",
    "    \n",
    "    which: Choose which toy example to return. Can be one of 'simplest', 'simple', 'feedback', 'multiple_regulation'\n",
    "    and 'multiple_regulation_feedback'.\n",
    "    '''\n",
    "    G = nx.DiGraph()\n",
    "    \n",
    "    # May the gods of programming languages forgive me for this shitty code.\n",
    "    if which == 'simplest':\n",
    "        G.add_edge('TF', 'gene1', weight=0.8)\n",
    "        G.add_edge('TF', 'gene2', weight=-1.2)\n",
    "    elif which == 'simple':\n",
    "        G.add_edge('TF1.1', 'TF2.1', weight=0.8)\n",
    "        G.add_edge('TF1.1', 'TF2.2', weight=-1.2)\n",
    "        G.add_edge('TF2.1', 'gene1', weight=1.5)\n",
    "        G.add_edge('TF2.1', 'gene2', weight=-0.4)\n",
    "        G.add_edge('TF2.2', 'gene3', weight=0.9)\n",
    "        G.add_edge('TF2.2', 'gene4', weight=-2.2)\n",
    "    elif which == 'feedback':\n",
    "        G.add_edge('TF1.1', 'TF2.1', weight=0.8)\n",
    "        G.add_edge('TF1.1', 'TF2.2', weight=1.2)\n",
    "        G.add_edge('TF2.1', 'gene1', weight=1.5)\n",
    "        G.add_edge('TF2.1', 'gene2', weight=-0.4)\n",
    "        G.add_edge('TF2.2', 'gene3', weight=0.9)\n",
    "        G.add_edge('TF2.2', 'gene4', weight=-2.2)\n",
    "        G.add_edge('TF2.2', 'TF1.1', weight=-1.5) # Feedback.\n",
    "    elif which == 'multiple_regulation':\n",
    "        G.add_edge('TF1.1', 'TF2.1', weight=0.8)\n",
    "        G.add_edge('TF1.1', 'TF2.2', weight=1.2)\n",
    "        G.add_edge('TF2.1', 'gene1', weight=1.5)\n",
    "        G.add_edge('TF2.1', 'gene2', weight=-0.4)\n",
    "        G.add_edge('TF2.2', 'gene3', weight=0.9)\n",
    "        G.add_edge('TF2.2', 'gene4', weight=-2.2)\n",
    "        G.add_edge('TF2.2', 'gene2', weight=-0.7)\n",
    "        G.add_edge('TF2.1', 'gene3', weight=-0.7)\n",
    "    elif which == 'multiple_regulation_feedback':\n",
    "        G.add_edge('TF1.1', 'TF2.1', weight=0.8)\n",
    "        G.add_edge('TF1.1', 'TF2.2', weight=1.2)\n",
    "        G.add_edge('TF2.1', 'gene1', weight=1.5)\n",
    "        G.add_edge('TF2.1', 'gene2', weight=-0.4)\n",
    "        G.add_edge('TF2.2', 'gene3', weight=0.9)\n",
    "        G.add_edge('TF2.2', 'gene4', weight=-2.2)\n",
    "        G.add_edge('TF2.2', 'gene2', weight=-0.7)\n",
    "        G.add_edge('TF2.1', 'gene3', weight=-0.7)\n",
    "        G.add_edge('gene3', 'TF1.1', weight=-0.5)\n",
    "    return G\n",
    "\n",
    "def discretize_edges(G):\n",
    "    '''\n",
    "    Takes a graph with edge weights and turns it into the discretized\n",
    "    version, where edges are {-1,0, 1}.\n",
    "    \n",
    "    returns: networkx DiGraph with discretized weight.\n",
    "    '''\n",
    "    H = G.copy()\n",
    "    for u,v,d in H.edges(data=True):\n",
    "        d['weight'] = np.sign(d['weight'])\n",
    "    return H\n",
    "\n",
    "def split_adj_matrix(A):\n",
    "    '''\n",
    "    Takes in matrix of 1 and -1 and returns two matrices\n",
    "    '''\n",
    "    Aa = np.array((A.toarray() == 1), dtype = 'int32') # Consider making this float64 instead.\n",
    "    Ai = np.array((A.toarray() == -1), dtype = 'int32')\n",
    "    return Aa, Ai"
   ]
  },
  {
   "cell_type": "code",
   "execution_count": 28,
   "metadata": {},
   "outputs": [],
   "source": [
    "def visualize(G, node_color='k'):\n",
    "    edges, weights = zip(*nx.get_edge_attributes(G,'weight').items())\n",
    "\n",
    "    pos = nx.spring_layout(G, weight=None) # get edge positions\n",
    "    #pos = nx.graphviz_layout(G)\n",
    "    nx.draw(G, pos, node_color=node_color, edgelist=edges,\n",
    "            edge_color=weights, node_cmap=plt.cm.coolwarm, \n",
    "            edge_cmap=plt.cm.coolwarm)\n",
    "    # May want to try other colormaps.\n",
    "    plt.show()"
   ]
  },
  {
   "cell_type": "code",
   "execution_count": 30,
   "metadata": {},
   "outputs": [],
   "source": [
    "\n",
    "def visualize_timecourse(G, time_course, pos=None, name=\"graph\"):\n",
    "    '''\n",
    "    Visualizes the timecourse data. Careful with \"name\", this function will remove\n",
    "    any directory with that name and replace it with the current simulation.\n",
    "    '''\n",
    "    def normalize(time_course):\n",
    "        '''\n",
    "        Normalizes input array so values are in [-1, 1].\n",
    "        '''\n",
    "        positive = (time_course > 0) * time_course\n",
    "        negative = (time_course <= 0) * time_course\n",
    "        return positive / np.max(positive) + negative / np.abs(np.min(negative))\n",
    "    if os.path.exists(name):\n",
    "        shutil.rmtree(name) # Remove current directory if it exists.\n",
    "    os.makedirs(name)\n",
    "\n",
    "    if pos == None:\n",
    "        pos = nx.spring_layout(G, weight=None) # get edge positions\n",
    "    \n",
    "    time_course = normalize(time_course)\n",
    "    edges, weights = zip(*nx.get_edge_attributes(G,'weight').items())\n",
    "    \n",
    "    \n",
    "    for i in range(time_course.shape[0]):\n",
    "        plt.figure()\n",
    "        nx.draw_networkx_nodes(G, pos, node_color=time_course[i,:], \n",
    "                               cmap=plt.cm.coolwarm, vmin=-1, vmax=1)\n",
    "\n",
    "        nx.draw_networkx_edges(G, pos, edgelist=edges, \n",
    "                               edge_color=weights, cmap=plt.cm.coolwarm,\n",
    "                               vmin=-2.5, vmax=2.5)\n",
    "        plt.savefig(name + \"/\" + f\"{i}\" + \".png\")\n",
    "        plt.close()"
   ]
  },
  {
   "cell_type": "code",
   "execution_count": 31,
   "metadata": {},
   "outputs": [],
   "source": [
    "def f(y, t0, A, u, kf):\n",
    "    return (A - kf * np.identity(len(A))) @ y + u"
   ]
  },
  {
   "cell_type": "code",
   "execution_count": 52,
   "metadata": {},
   "outputs": [],
   "source": [
    "def simulate_and_plot(G, kf=0.5, u=None, pos=None, name='graph',\n",
    "                      times=np.array([0, 5, 10, 15, 20, 30, 40, 60, 80])):\n",
    "    A = nx.adjacency_matrix(G)\n",
    "    A = A.toarray()\n",
    "    A = A.transpose()\n",
    "    \n",
    "    if pos is None:\n",
    "        pos = nx.spring_layout(G, weight=None) # get edge positions\n",
    "\n",
    "    if u is None:\n",
    "        u = np.array([1.0] + [0.0] * (len(A) - 1))\n",
    "    \n",
    "    y0 = [0.0] * len(A)\n",
    "    \n",
    "    \n",
    "    y = odeint(f, y0=y0,\n",
    "               t=times,\n",
    "               args=(A, u, kf))\n",
    "    visualize_timecourse(G, y, pos=pos, name=name)"
   ]
  },
  {
   "cell_type": "code",
   "execution_count": 53,
   "metadata": {},
   "outputs": [
    {
     "data": {
      "image/png": "[encoded data removed]",
      "text/plain": [
       "<matplotlib.figure.Figure at 0x7f5c765e47b8>"
      ]
     },
     "metadata": {},
     "output_type": "display_data"
    }
   ],
   "source": [
    "G = get_toy_graph('simplest')\n",
    "\n",
    "visualize(G)"
   ]
  },
  {
   "cell_type": "code",
   "execution_count": 34,
   "metadata": {},
   "outputs": [],
   "source": [
    "simulate_and_plot(G, name='graph2')"
   ]
  },
  {
   "cell_type": "code",
   "execution_count": 39,
   "metadata": {},
   "outputs": [
    {
     "data": {
      "text/plain": [
       "array([ 0,  2,  4,  6,  8, 10, 12, 14])"
      ]
     },
     "execution_count": 39,
     "metadata": {},
     "output_type": "execute_result"
    }
   ],
   "source": [
    "times = np.array(range(8)) * 2\n",
    "times"
   ]
  },
  {
   "cell_type": "code",
   "execution_count": 54,
   "metadata": {},
   "outputs": [],
   "source": [
    "for name in ['simplest', 'simple', 'feedback', 'multiple_regulation', 'multiple_regulation_feedback']:\n",
    "    G = get_toy_graph(name)\n",
    "    pos = nx.spring_layout(G, weight=None) # get edge positions\n",
    "    simulate_and_plot(G, pos=pos, name=name,\n",
    "                     times=times)\n",
    "    H = discretize_edges(G)\n",
    "    simulate_and_plot(H, pos=pos, name=name+'_discrete',\n",
    "                     times=times)"
   ]
  },
  {
   "cell_type": "code",
   "execution_count": 47,
   "metadata": {},
   "outputs": [
    {
     "data": {
      "text/plain": [
       "{'TF1.1': array([-0.09624631,  0.01012123]),\n",
       " 'TF2.1': array([-0.15991545,  0.34512777]),\n",
       " 'TF2.2': array([ 0.00405986, -0.31596908]),\n",
       " 'gene1': array([ 0.21543697,  0.67358436]),\n",
       " 'gene2': array([-0.68642769,  0.30291859]),\n",
       " 'gene3': array([ 0.06321372, -0.01578287]),\n",
       " 'gene4': array([ 0.6598789, -1.       ])}"
      ]
     },
     "execution_count": 47,
     "metadata": {},
     "output_type": "execute_result"
    }
   ],
   "source": [
    "pos"
   ]
  },
  {
   "cell_type": "code",
   "execution_count": null,
   "metadata": {},
   "outputs": [],
   "source": []
  }
 ],
 "metadata": {
  "kernelspec": {
   "display_name": "Python 3",
   "language": "python",
   "name": "python3"
  },
  "language_info": {
   "codemirror_mode": {
    "name": "ipython",
    "version": 3
   },
   "file_extension": ".py",
   "mimetype": "text/x-python",
   "name": "python",
   "nbconvert_exporter": "python",
   "pygments_lexer": "ipython3",
   "version": "3.6.2"
  }
 },
 "nbformat": 4,
 "nbformat_minor": 2
}
