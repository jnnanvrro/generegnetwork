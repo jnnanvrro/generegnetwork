{
 "cells": [
  {
   "cell_type": "code",
   "execution_count": 9,
   "metadata": {
    "collapsed": true
   },
   "outputs": [],
   "source": [
    "import pandas as pd\n",
    "import numpy as np\n",
    "import matplotlib.pyplot as plt\n",
    "from PIL import Image\n",
    "from scipy.integrate import odeint\n",
    "from numpy import linalg as LA\n",
    "from numpy.linalg import inv\n",
    "from math import exp"
   ]
  },
  {
   "cell_type": "code",
   "execution_count": 2,
   "metadata": {
    "collapsed": true
   },
   "outputs": [],
   "source": [
    "def get_yeastract_data(yeastract_csv_filename, gene_to_orf_filename=\"tftoorf.csv\", as_orf=False):\n",
    "    '''\n",
    "    Returns Yeastract network data as a pandas DataFrame.\n",
    "    '''\n",
    "    def tf_to_gene(tf_name):\n",
    "        '''\n",
    "        Removes trailing \"p\" from transcription factor name and turn into uppercase.\n",
    "        '''\n",
    "        if tf_name[-1] == 'p':\n",
    "            return tf_name.upper()[:-1]\n",
    "        else:\n",
    "            return tf_name\n",
    "    \n",
    "    yeastract_data = pd.read_csv(yeastract_csv_filename, sep= \";\")\n",
    "    gene_to_orf_df = pd.read_csv(gene_to_orf_filename)\n",
    "    \n",
    "    tf_list = list(yeastract_data['6855'])\n",
    "    gene_list = list(yeastract_data.columns.values)[1:]\n",
    "    \n",
    "    # Fix dataframe so it has right things as rownames.\n",
    "    yeastract_data = yeastract_data.rename(index=yeastract_data['6855'])\n",
    "    yeastract_data = yeastract_data.iloc[:, 1:]\n",
    "    \n",
    "    tf_list = [tf_to_gene(tf) for tf in tf_list]\n",
    "    if as_orf:\n",
    "        gene_to_orf = dict(zip(list(gene_to_orf_df.iloc[:,0]), list(gene_to_orf_df.iloc[:,2])))\n",
    "        \n",
    "        rownames = [gene_to_orf[tf] for tf in tf_list]\n",
    "        # Change to TF if possible, otherwise keep same name.\n",
    "        colnames = [gene_to_orf.get(gene, gene) for gene in gene_list]\n",
    "    else:\n",
    "        rownames = tf_list\n",
    "        colnames = gene_list\n",
    "    \n",
    "    final_data = pd.DataFrame(np.array(yeastract_data), index=rownames, columns=colnames)\n",
    "    \n",
    "    return final_data\n",
    "\n",
    "def get_gasch_data(gasch_data_filename=\"complete_dataset_gasch.txt\", \n",
    "                   orf_to_gene_filename=\"orfname_time_course_fixed.csv\",\n",
    "                   supset=None ,\n",
    "                   as_orf=False):\n",
    "    '''\n",
    "    Returns heat shock time-course data from Gasch as DataFrame.\n",
    "    '''\n",
    "    gasch_data = pd.read_csv(gasch_data_filename, sep=\"\\t\")\n",
    "#    gasch_data = gasch_data.iloc[:,:11] # Filter only heat-shock data from first experiment (hs-1).\n",
    "    \n",
    "    if not as_orf:\n",
    "        # Rename as genes.\n",
    "        orf_to_gene_df = pd.read_csv(orf_to_gene_filename)\n",
    "        orfs = list(orf_to_gene_df.iloc[:,0])\n",
    "        genes = list(orf_to_gene_df.iloc[:,3])\n",
    "        \n",
    "        # Remove unknowns, keep original name.\n",
    "        genes = [gene if gene != 'Unknown' else orfs[i] for i, gene in enumerate(genes)]\n",
    "        orf_to_gene = dict(zip(orfs, genes))\n",
    "        \n",
    "        orf_list = list(gasch_data[\"UID\"])\n",
    "        gene_names = [orf_to_gene.get(orf, orf) for orf in orf_list]\n",
    "        #print(gene_names)\n",
    "        gasch_data[\"UID\"] = gene_names\n",
    "        gasch_data = gasch_data.rename(index=gasch_data[\"UID\"])\n",
    "        gasch_data = gasch_data.iloc[:, 1:]\n",
    "        if supset != None:\n",
    "            to_delete = set(gene_names)-set(supset)\n",
    "            to_delete_list = list(to_delete)\n",
    "            gasch_data = gasch_data.drop(to_delete_list)\n",
    "    return gasch_data\n",
    "    \n",
    "\n",
    "def squarify(df, sort=False):\n",
    "    '''\n",
    "    Turns Yeastract DataFrame into a square dataframe (i.e. adjacency matrix).\n",
    "    '''\n",
    "    cols=list(df.columns)\n",
    "    rows=list(df.index)\n",
    "    d = []\n",
    "    for x in cols:\n",
    "        if x in rows:\n",
    "            d.append(list(df.loc[x]))\n",
    "        else:\n",
    "            d.append([0]*len(cols))\n",
    "    A = np.array(d)\n",
    "    return pd.DataFrame(A, index=cols, columns=cols)\n",
    "\n",
    "def reorder(target_orf, adj_matrix):\n",
    "    A = target_orf #input the list of target orf name\n",
    "    B = adj_matrix #input the adj matrix\n",
    "\n",
    "    #First we want to extract the header from the adj matrix and compare them with the list\n",
    "\n",
    "    B_header = list(B)\n",
    "\n",
    "    AB_diff = list(set(B_header) - set(A))\n",
    "    #print(set(A)<set(B_header))\n",
    "    A_total = A + AB_diff\n",
    "    B = B[A_total]\n",
    "    B = B.reindex(A_total)\n",
    "    return B"
   ]
  },
  {
   "cell_type": "code",
   "execution_count": 3,
   "metadata": {
    "collapsed": true
   },
   "outputs": [],
   "source": [
    "yeastract_data_activation = get_yeastract_data(\"matrix_activator.csv\",\"tftoorf.csv\")\n",
    "yeastract_data_inhibition = get_yeastract_data(\"matrix_inhibitor.csv\",\"tftoorf.csv\")\n",
    "adj_mat_activation = squarify(yeastract_data_activation)\n",
    "adj_mat_inhibition = squarify(yeastract_data_inhibition)\n",
    "adj_matrix=adj_mat_activation-adj_mat_inhibition\n",
    "cols = list(adj_mat_activation.columns)\n",
    "gasch_data = get_gasch_data(\"complete_dataset_gasch.txt\",\"orfname_time_course_fixed.csv\",cols)\n",
    "adj_matrix = reorder(list(gasch_data.index),adj_matrix)\n",
    "gasch_esr = get_gasch_data(\"figure3_gasch_paper.cdt\",\"orfname_time_course_fixed.csv\",cols)"
   ]
  },
  {
   "cell_type": "code",
   "execution_count": 37,
   "metadata": {
    "collapsed": true
   },
   "outputs": [],
   "source": [
    "esr_genes=list(gasch_esr.index)"
   ]
  },
  {
   "cell_type": "code",
   "execution_count": 38,
   "metadata": {},
   "outputs": [
    {
     "data": {
      "text/plain": [
       "Index(['NAME', 'GWEIGHT', 'Heat Shock 05 minutes hs-1',\n",
       "       'Heat Shock 10 minutes hs-1', 'Heat Shock 15 minutes hs-1',\n",
       "       'Heat Shock 20 minutes hs-1', 'Heat Shock 30 minutes hs-1',\n",
       "       'Heat Shock 40 minutes hs-1', 'Heat Shock 60 minutes hs-1',\n",
       "       'Heat Shock 80 minutes hs-1', 'Heat Shock 000 minutes hs-2',\n",
       "       'Heat Shock 000 minutes  hs-2', 'Heat Shock 000 minutes  hs-2.1',\n",
       "       'Heat Shock 005 minutes  hs-2', 'Heat Shock 015 minutes  hs-2',\n",
       "       'Heat Shock 030inutes  hs-2', 'Heat Shock 060 minutes  hs-2'],\n",
       "      dtype='object')"
      ]
     },
     "execution_count": 38,
     "metadata": {},
     "output_type": "execute_result"
    }
   ],
   "source": [
    "gasch_data_cols=gasch_data.columns\n",
    "gasch_data_cols[0:17]"
   ]
  },
  {
   "cell_type": "code",
   "execution_count": 187,
   "metadata": {
    "collapsed": true
   },
   "outputs": [],
   "source": [
    "#These transcription factors are the ones we expect to turn on the heat shock response.\n",
    "heat_shock_starters=[\"HSF1\",\"MSN2\",\"MSN4\",\"RLM1\",\"SWI4\"]"
   ]
  },
  {
   "cell_type": "code",
   "execution_count": 4,
   "metadata": {
    "collapsed": true
   },
   "outputs": [],
   "source": [
    "def num_to_rgb(num,maxi):\n",
    "    if num > 0:\n",
    "        return [int(255*num/maxi), 0, 0]\n",
    "    elif num < 0:\n",
    "        return [0,int(-255*num/maxi),0]\n",
    "    elif num ==0:\n",
    "        return [0,0,0]\n",
    "    else:\n",
    "        return [0,0,255]\n",
    "def make_plot(rawdata,filename,maxi=8,pixperpoint=10):\n",
    "    numrows=len(rawdata)\n",
    "    numcols=len(rawdata[0])\n",
    "    raw_pixel_data = np.zeros([numrows,pixperpoint*numcols,3],dtype=np.uint8)\n",
    "    for i in range(numrows):\n",
    "        for j in range(numcols):\n",
    "            for k in range(pixperpoint):\n",
    "                raw_pixel_data[i,pixperpoint*j+k] = num_to_rgb(rawdata[i,j], maxi)\n",
    "    img = Image.fromarray(raw_pixel_data, 'RGB')\n",
    "    img.save(filename)"
   ]
  },
  {
   "cell_type": "code",
   "execution_count": 39,
   "metadata": {
    "collapsed": true
   },
   "outputs": [],
   "source": [
    "esr_raw_data=gasch_data.loc[esr_genes]\n",
    "esr_raw_data_heat_shock=esr_raw_data[gasch_data_cols[2:10]]\n",
    "esr_raw_data_heat_shock_array=np.array(esr_raw_data_heat_shock)\n",
    "make_plot(esr_raw_data_heat_shock_array,'esr_heat_shock.png',8,10)"
   ]
  },
  {
   "cell_type": "code",
   "execution_count": 189,
   "metadata": {},
   "outputs": [
    {
     "name": "stdout",
     "output_type": "stream",
     "text": [
      "HSF1 1807\n",
      "MSN2 4038\n",
      "MSN4 3154\n",
      "RLM1 5525\n",
      "SWI4 1405\n"
     ]
    }
   ],
   "source": [
    "for h in heat_shock_starters:\n",
    "    print(h,cols.index(h))"
   ]
  },
  {
   "cell_type": "code",
   "execution_count": 7,
   "metadata": {
    "collapsed": true
   },
   "outputs": [],
   "source": [
    "A=np.transpose(np.array(adj_matrix))\n",
    "u=np.zeros(len(cols))\n",
    "u[1807] = 1\n",
    "u[4038] = 1\n",
    "u[3154] = 1\n",
    "u[5525] = 1\n",
    "u[1405] = 1\n",
    "y0=np.zeros(len(cols))\n",
    "kf=0.5"
   ]
  },
  {
   "cell_type": "code",
   "execution_count": 13,
   "metadata": {},
   "outputs": [
    {
     "name": "stderr",
     "output_type": "stream",
     "text": [
      "C:\\ProgramData\\Anaconda3\\lib\\site-packages\\ipykernel_launcher.py:12: ComplexWarning: Casting complex values to real discards the imaginary part\n",
      "  if sys.path[0] == '':\n"
     ]
    }
   ],
   "source": [
    "eigvals,eigvects = LA.eig(A-kf*np.identity(len(cols)))\n",
    "V = np.transpose(eigvects)\n",
    "Vinv = inv(V)\n",
    "Vhat= Vinv@u\n",
    "md=[]\n",
    "mdtemp=[]\n",
    "for t in [0,5,10,15,20,30,40,60,80]:\n",
    "    for lamda in eigvals:\n",
    "# We're going to have a huge problem here where zero eigenvalues are not recognized as\n",
    "# properly being zero because of roundoff error. This is going to add humongous entries\n",
    "# to the diagonal matrix, which is bad\n",
    "        if lamda == 0:\n",
    "            mdtemp.append(t)\n",
    "        else:\n",
    "            mdtemp.append((exp(lamda*t))/lamda)\n",
    "    md.append(mdtemp)\n",
    "    mdtemp=[]\n",
    "time_course=[]\n",
    "for tstep in md:\n",
    "    time_course.append(V @ np.diag(tstep) @ Vhat)\n",
    "time_course=np.transpose(time_course)\n",
    "time_course=time_course.real"
   ]
  }
 ],
 "metadata": {
  "kernelspec": {
   "display_name": "Python 3",
   "language": "python",
   "name": "python3"
  },
  "language_info": {
   "codemirror_mode": {
    "name": "ipython",
    "version": 3
   },
   "file_extension": ".py",
   "mimetype": "text/x-python",
   "name": "python",
   "nbconvert_exporter": "python",
   "pygments_lexer": "ipython3",
   "version": "3.6.3"
  }
 },
 "nbformat": 4,
 "nbformat_minor": 2
}
