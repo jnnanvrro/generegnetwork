{
 "cells": [
  {
   "cell_type": "code",
   "execution_count": 95,
   "metadata": {
    "collapsed": true
   },
   "outputs": [],
   "source": [
    "import pandas as pd\n",
    "import numpy as np\n",
    "import matplotlib.pyplot as plt\n",
    "from PIL import Image\n",
    "from scipy.integrate import odeint\n",
    "from numpy import linalg as LA\n",
    "from numpy.linalg import inv\n",
    "from math import exp"
   ]
  },
  {
   "cell_type": "code",
   "execution_count": 47,
   "metadata": {
    "collapsed": true
   },
   "outputs": [],
   "source": [
    "def get_yeastract_data(yeastract_csv_filename, gene_to_orf_filename=\"tftoorf.csv\", as_orf=False):\n",
    "    '''\n",
    "    Returns Yeastract network data as a pandas DataFrame.\n",
    "    '''\n",
    "    def tf_to_gene(tf_name):\n",
    "        '''\n",
    "        Removes trailing \"p\" from transcription factor name and turn into uppercase.\n",
    "        '''\n",
    "        if tf_name[-1] == 'p':\n",
    "            return tf_name.upper()[:-1]\n",
    "        else:\n",
    "            return tf_name\n",
    "    \n",
    "    yeastract_data = pd.read_csv(yeastract_csv_filename, sep= \";\")\n",
    "    gene_to_orf_df = pd.read_csv(gene_to_orf_filename)\n",
    "    \n",
    "    tf_list = list(yeastract_data['6855'])\n",
    "    gene_list = list(yeastract_data.columns.values)[1:]\n",
    "    \n",
    "    # Fix dataframe so it has right things as rownames.\n",
    "    yeastract_data = yeastract_data.rename(index=yeastract_data['6855'])\n",
    "    yeastract_data = yeastract_data.iloc[:, 1:]\n",
    "    \n",
    "    tf_list = [tf_to_gene(tf) for tf in tf_list]\n",
    "    if as_orf:\n",
    "        gene_to_orf = dict(zip(list(gene_to_orf_df.iloc[:,0]), list(gene_to_orf_df.iloc[:,2])))\n",
    "        \n",
    "        rownames = [gene_to_orf[tf] for tf in tf_list]\n",
    "        # Change to TF if possible, otherwise keep same name.\n",
    "        colnames = [gene_to_orf.get(gene, gene) for gene in gene_list]\n",
    "    else:\n",
    "        rownames = tf_list\n",
    "        colnames = gene_list\n",
    "    \n",
    "    final_data = pd.DataFrame(np.array(yeastract_data), index=rownames, columns=colnames)\n",
    "    \n",
    "    return final_data\n",
    "\n",
    "def get_gasch_data(gasch_data_filename=\"complete_dataset_gasch.txt\", \n",
    "                   orf_to_gene_filename=\"orfname_time_course_fixed.csv\",\n",
    "                   supset=None ,\n",
    "                   as_orf=False):\n",
    "    '''\n",
    "    Returns heat shock time-course data from Gasch as DataFrame.\n",
    "    '''\n",
    "    gasch_data = pd.read_csv(gasch_data_filename, sep=\"\\t\")\n",
    "#    gasch_data = gasch_data.iloc[:,:11] # Filter only heat-shock data from first experiment (hs-1).\n",
    "    \n",
    "    if not as_orf:\n",
    "        # Rename as genes.\n",
    "        orf_to_gene_df = pd.read_csv(orf_to_gene_filename)\n",
    "        orfs = list(orf_to_gene_df.iloc[:,0])\n",
    "        genes = list(orf_to_gene_df.iloc[:,3])\n",
    "        \n",
    "        # Remove unknowns, keep original name.\n",
    "        genes = [gene if gene != 'Unknown' else orfs[i] for i, gene in enumerate(genes)]\n",
    "        orf_to_gene = dict(zip(orfs, genes))\n",
    "        \n",
    "        orf_list = list(gasch_data[\"UID\"])\n",
    "        gene_names = [orf_to_gene.get(orf, orf) for orf in orf_list]\n",
    "        #print(gene_names)\n",
    "        gasch_data[\"UID\"] = gene_names\n",
    "        gasch_data = gasch_data.rename(index=gasch_data[\"UID\"])\n",
    "        gasch_data = gasch_data.iloc[:, 1:]\n",
    "        if supset != None:\n",
    "            to_delete = set(gene_names)-set(supset)\n",
    "            to_delete_list = list(to_delete)\n",
    "            gasch_data = gasch_data.drop(to_delete_list)\n",
    "    return gasch_data\n",
    "    \n",
    "\n",
    "def squarify(df, sort=False):\n",
    "    '''\n",
    "    Turns Yeastract DataFrame into a square dataframe (i.e. adjacency matrix).\n",
    "    '''\n",
    "    cols=list(df.columns)\n",
    "    rows=list(df.index)\n",
    "    d = []\n",
    "    for x in cols:\n",
    "        if x in rows:\n",
    "            d.append(list(df.loc[x]))\n",
    "        else:\n",
    "            d.append([0]*len(cols))\n",
    "    A = np.array(d)\n",
    "    return pd.DataFrame(A, index=cols, columns=cols)\n",
    "\n",
    "def reorder(target_orf, adj_matrix):\n",
    "    A = target_orf #input the list of target orf name\n",
    "    B = adj_matrix #input the adj matrix\n",
    "\n",
    "    #First we want to extract the header from the adj matrix and compare them with the list\n",
    "\n",
    "    B_header = list(B)\n",
    "\n",
    "    AB_diff = list(set(B_header) - set(A))\n",
    "    #print(set(A)<set(B_header))\n",
    "    A_total = A + AB_diff\n",
    "    B = B[A_total]\n",
    "    B = B.reindex(A_total)\n",
    "    return B"
   ]
  },
  {
   "cell_type": "code",
   "execution_count": 48,
   "metadata": {
    "collapsed": true
   },
   "outputs": [],
   "source": [
    "yeastract_data_activation = get_yeastract_data(\"matrix_activator.csv\",\"tftoorf.csv\")\n",
    "yeastract_data_inhibition = get_yeastract_data(\"matrix_inhibitor.csv\",\"tftoorf.csv\")\n",
    "adj_mat_activation = squarify(yeastract_data_activation)\n",
    "adj_mat_inhibition = squarify(yeastract_data_inhibition)\n",
    "adj_matrix=adj_mat_activation-adj_mat_inhibition\n",
    "cols = list(adj_mat_activation.columns)\n",
    "gasch_data = get_gasch_data(\"complete_dataset_gasch.txt\",\"orfname_time_course_fixed.csv\",cols)\n",
    "adj_matrix = reorder(list(gasch_data.index),adj_matrix)\n",
    "gasch_esr = get_gasch_data(\"figure3_gasch_paper.cdt\",\"orfname_time_course_fixed.csv\",cols)"
   ]
  },
  {
   "cell_type": "code",
   "execution_count": 49,
   "metadata": {
    "collapsed": true
   },
   "outputs": [],
   "source": [
    "esr_genes=list(gasch_esr.index)"
   ]
  },
  {
   "cell_type": "code",
   "execution_count": 50,
   "metadata": {},
   "outputs": [
    {
     "data": {
      "text/plain": [
       "Index(['NAME', 'GWEIGHT', 'Heat Shock 05 minutes hs-1',\n",
       "       'Heat Shock 10 minutes hs-1', 'Heat Shock 15 minutes hs-1',\n",
       "       'Heat Shock 20 minutes hs-1', 'Heat Shock 30 minutes hs-1',\n",
       "       'Heat Shock 40 minutes hs-1', 'Heat Shock 60 minutes hs-1',\n",
       "       'Heat Shock 80 minutes hs-1', 'Heat Shock 000 minutes hs-2',\n",
       "       'Heat Shock 000 minutes  hs-2', 'Heat Shock 000 minutes  hs-2.1',\n",
       "       'Heat Shock 005 minutes  hs-2', 'Heat Shock 015 minutes  hs-2',\n",
       "       'Heat Shock 030inutes  hs-2', 'Heat Shock 060 minutes  hs-2'],\n",
       "      dtype='object')"
      ]
     },
     "execution_count": 50,
     "metadata": {},
     "output_type": "execute_result"
    }
   ],
   "source": [
    "gasch_data_cols=gasch_data.columns\n",
    "gasch_data_cols[0:17]"
   ]
  },
  {
   "cell_type": "code",
   "execution_count": 51,
   "metadata": {
    "collapsed": true
   },
   "outputs": [],
   "source": [
    "#These transcription factors are the ones we expect to turn on the heat shock response.\n",
    "heat_shock_starters=[\"HSF1\",\"MSN2\",\"MSN4\",\"RLM1\",\"SWI4\"]"
   ]
  },
  {
   "cell_type": "code",
   "execution_count": 52,
   "metadata": {
    "collapsed": true
   },
   "outputs": [],
   "source": [
    "def num_to_rgb(num,maxi):\n",
    "    if num > 0:\n",
    "        return [int(255*num/maxi), 0, 0]\n",
    "    elif num < 0:\n",
    "        return [0,int(-255*num/maxi),0]\n",
    "    elif num ==0:\n",
    "        return [0,0,0]\n",
    "    else:\n",
    "        return [0,0,255]\n",
    "def make_plot(rawdata,filename,maxi=8,pixperpoint=10):\n",
    "    numrows=len(rawdata)\n",
    "    numcols=len(rawdata[0])\n",
    "    raw_pixel_data = np.zeros([numrows,pixperpoint*numcols,3],dtype=np.uint8)\n",
    "    for i in range(numrows):\n",
    "        for j in range(numcols):\n",
    "            for k in range(pixperpoint):\n",
    "                raw_pixel_data[i,pixperpoint*j+k] = num_to_rgb(rawdata[i,j], maxi)\n",
    "    img = Image.fromarray(raw_pixel_data, 'RGB')\n",
    "    img.save(filename)"
   ]
  },
  {
   "cell_type": "code",
   "execution_count": 53,
   "metadata": {
    "collapsed": true
   },
   "outputs": [],
   "source": [
    "esr_raw_data=gasch_data.loc[esr_genes]\n",
    "esr_raw_data_heat_shock=esr_raw_data[gasch_data_cols[2:10]]\n",
    "esr_raw_data_heat_shock_array=np.array(esr_raw_data_heat_shock)\n",
    "make_plot(esr_raw_data_heat_shock_array,'esr_heat_shock.png',8,10)"
   ]
  },
  {
   "cell_type": "code",
   "execution_count": 54,
   "metadata": {},
   "outputs": [
    {
     "name": "stdout",
     "output_type": "stream",
     "text": [
      "HSF1 1807\n",
      "MSN2 4038\n",
      "MSN4 3154\n",
      "RLM1 5525\n",
      "SWI4 1405\n"
     ]
    }
   ],
   "source": [
    "for h in heat_shock_starters:\n",
    "    print(h,cols.index(h))"
   ]
  },
  {
   "cell_type": "code",
   "execution_count": 55,
   "metadata": {
    "collapsed": true
   },
   "outputs": [],
   "source": [
    "A=np.transpose(np.array(adj_matrix))\n",
    "u=np.zeros(len(cols))\n",
    "u[1807] = 1\n",
    "u[4038] = 1\n",
    "u[3154] = 1\n",
    "u[5525] = 1\n",
    "u[1405] = 1\n",
    "y0=np.zeros(len(cols))\n",
    "kf=0.5"
   ]
  },
  {
   "cell_type": "code",
   "execution_count": 135,
   "metadata": {
    "collapsed": true
   },
   "outputs": [],
   "source": [
    "def get_exact_soln(A,y0,kf,u,timesteps,zeroics=True,zeroforcing=False):\n",
    "    if zeroforcing and zeroics:\n",
    "        print(\"You need to input something!\")\n",
    "        return 0\n",
    "    eigvals,eigvects = LA.eig(A-kf*np.identity(len(A)))\n",
    "    V=eigvects\n",
    "    Vinv = inv(V)\n",
    "    if not zeroforcing:\n",
    "        Vhat1= Vinv@u\n",
    "    if not zeroics:\n",
    "        Vhat2=Vinv@y0\n",
    "    if not zeroforcing:\n",
    "        mdf=[]\n",
    "        mdtemp=[]\n",
    "        for t in timesteps:\n",
    "            for lamda in eigvals:\n",
    "                if np.abs(lamda)<0.000001:\n",
    "                    mdtemp.append(t)\n",
    "                else:\n",
    "                    mdtemp.append((expm1(lamda*t))/lamda)\n",
    "            mdf.append(mdtemp)\n",
    "            mdtemp=[]\n",
    "    if not zeroics:\n",
    "        mdi=[]\n",
    "        mdtemp=[]\n",
    "        for t in timesteps:\n",
    "            for lamda in eigvals:\n",
    "                mdtemp.append(exp(lamda*t))\n",
    "            mdi.append(mdtemp)\n",
    "            mdtemp=[]\n",
    "    time_course_force=np.zeros((len(timesteps),len(A)))\n",
    "    time_course_ics=np.zeros((len(timesteps),len(A)))\n",
    "    if not zeroics:\n",
    "        for tstep in range(len(timesteps)):\n",
    "            time_course_ics[tstep] = V @ np.diag(mdi[tstep])@Vhat2\n",
    "    if not zeroforcing:\n",
    "        for tstep in range(len(timesteps)):\n",
    "            time_course_force[tstep] = V @ np.diag(mdf[tstep])@Vhat1\n",
    "    time_course = time_course_force + time_course_ics\n",
    "    time_course=np.transpose(time_course)\n",
    "    time_course=time_course.real\n",
    "    return time_course"
   ]
  },
  {
   "cell_type": "code",
   "execution_count": 99,
   "metadata": {
    "collapsed": true
   },
   "outputs": [],
   "source": [
    "def f(y, t0, A, u, kf):\n",
    "    return (A - kf * np.identity(len(A))) @ y + u"
   ]
  },
  {
   "cell_type": "code",
   "execution_count": 143,
   "metadata": {},
   "outputs": [
    {
     "name": "stdout",
     "output_type": "stream",
     "text": [
      "[[  1.00000000e+00   9.28692306e+01   1.66690825e+03   2.94313525e+04]\n",
      " [  5.00000000e+00   5.11530951e+01   8.91276171e+02   1.57314784e+04]]\n",
      "[[  1.00000000e+00   9.28692276e+01   1.66690811e+03   2.94313487e+04]\n",
      " [  5.00000000e+00   5.11530935e+01   8.91276098e+02   1.57314764e+04]]\n",
      "[[ -8.88178420e-16  -2.99849127e-06  -1.35000356e-04  -3.83154001e-03]\n",
      " [  0.00000000e+00  -1.60332806e-06  -7.21609690e-05  -2.04804439e-03]]\n"
     ]
    }
   ],
   "source": [
    "id2=np.array([[1,3.5],[1,1]])\n",
    "u=[1,0]\n",
    "tsteps=[0,1,2,3]\n",
    "yinit=[1,5]\n",
    "y = odeint(f, y0=yinit,t=tsteps,args=(id2, u, 0))\n",
    "print(np.transpose(y))\n",
    "y_analytic=get_exact_soln(id2,yinit,0,u,tsteps,False,False)\n",
    "print(y_analytic)\n",
    "print(y_analytic-np.transpose(y))"
   ]
  },
  {
   "cell_type": "code",
   "execution_count": 134,
   "metadata": {},
   "outputs": [
    {
     "name": "stdout",
     "output_type": "stream",
     "text": [
      "[[1 0]\n",
      " [4 1]]\n"
     ]
    }
   ],
   "source": [
    "testmat=np.array([[1,0],[0,2]])\n",
    "testmat[1]=[4,1]\n",
    "print(testmat)"
   ]
  },
  {
   "cell_type": "code",
   "execution_count": 114,
   "metadata": {
    "collapsed": true
   },
   "outputs": [],
   "source": [
    "eigvals,eigvects = LA.eig(id2)\n",
    "V = np.transpose(eigvects)\n",
    "Vinv = inv(V)\n",
    "Vhat= Vinv@u\n",
    "\n"
   ]
  },
  {
   "cell_type": "code",
   "execution_count": 131,
   "metadata": {},
   "outputs": [
    {
     "name": "stdout",
     "output_type": "stream",
     "text": [
      "[[1 0]\n",
      " [1 1]]\n",
      "[ 1.  1.]\n",
      "[[  0.00000000e+00   2.22044605e-16]\n",
      " [  1.00000000e+00  -1.00000000e+00]]\n"
     ]
    }
   ],
   "source": [
    "print(id2)\n",
    "eigvals,eigvects = LA.eig(id2)\n",
    "print(eigvals)\n",
    "print(eigvects)"
   ]
  },
  {
   "cell_type": "code",
   "execution_count": 124,
   "metadata": {},
   "outputs": [
    {
     "name": "stdout",
     "output_type": "stream",
     "text": [
      "[ 1.         1.4472136]\n",
      "[1.0, 0.89442719]\n"
     ]
    }
   ],
   "source": [
    "print(id2@[ 1.,0.89442719])\n",
    "print([ 1.,0.89442719])"
   ]
  },
  {
   "cell_type": "code",
   "execution_count": 67,
   "metadata": {
    "collapsed": true
   },
   "outputs": [],
   "source": [
    "eigvals,eigvects = LA.eig(A)"
   ]
  },
  {
   "cell_type": "code",
   "execution_count": 90,
   "metadata": {},
   "outputs": [
    {
     "data": {
      "text/plain": [
       "6822"
      ]
     },
     "execution_count": 90,
     "metadata": {},
     "output_type": "execute_result"
    }
   ],
   "source": [
    "len(np.where(np.abs(eigvals)<0.001)[0])"
   ]
  },
  {
   "cell_type": "code",
   "execution_count": 85,
   "metadata": {},
   "outputs": [
    {
     "data": {
      "image/png": "[encoded data removed]",
      "text/plain": [
       "<matplotlib.figure.Figure at 0x1d30c0328d0>"
      ]
     },
     "metadata": {},
     "output_type": "display_data"
    },
    {
     "name": "stdout",
     "output_type": "stream",
     "text": [
      "Wall time: 364 ms\n"
     ]
    }
   ],
   "source": [
    "%%time\n",
    "plt.hist(np.abs(eigvals),bins=100,log=True)\n",
    "plt.show()"
   ]
  },
  {
   "cell_type": "code",
   "execution_count": 73,
   "metadata": {},
   "outputs": [
    {
     "data": {
      "text/plain": [
       "7801"
      ]
     },
     "execution_count": 73,
     "metadata": {},
     "output_type": "execute_result"
    }
   ],
   "source": [
    "np.sum(np.abs(A))"
   ]
  }
 ],
 "metadata": {
  "kernelspec": {
   "display_name": "Python 3",
   "language": "python",
   "name": "python3"
  },
  "language_info": {
   "codemirror_mode": {
    "name": "ipython",
    "version": 3
   },
   "file_extension": ".py",
   "mimetype": "text/x-python",
   "name": "python",
   "nbconvert_exporter": "python",
   "pygments_lexer": "ipython3",
   "version": "3.6.3"
  }
 },
 "nbformat": 4,
 "nbformat_minor": 2
}
