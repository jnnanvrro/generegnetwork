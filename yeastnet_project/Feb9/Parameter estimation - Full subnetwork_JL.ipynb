{
 "cells": [
  {
   "cell_type": "code",
   "execution_count": 1,
   "metadata": {
    "collapsed": true,
    "deletable": true,
    "editable": true
   },
   "outputs": [],
   "source": [
    "import numpy as np\n",
    "import pandas as pd\n",
    "import networkx as nx\n",
    "\n",
    "from matplotlib import pyplot as plt\n",
    "\n",
    "from scipy.integrate import odeint\n",
    "from scipy.optimize import minimize"
   ]
  },
  {
   "cell_type": "markdown",
   "metadata": {
    "deletable": true,
    "editable": true
   },
   "source": [
    "# Read data and build subnetwork"
   ]
  },
  {
   "cell_type": "code",
   "execution_count": 2,
   "metadata": {
    "collapsed": true,
    "deletable": true,
    "editable": true
   },
   "outputs": [],
   "source": [
    "def get_yeastract_data(yeastract_csv_filename, gene_to_orf_filename=\"tftoorf.csv\", as_orf=False):\n",
    "    '''\n",
    "    Returns Yeastract network data as a pandas DataFrame.\n",
    "    '''\n",
    "    def tf_to_gene(tf_name):\n",
    "        '''\n",
    "        Removes trailing \"p\" from transcription factor name and turn into uppercase.\n",
    "        '''\n",
    "        if tf_name[-1] == 'p':\n",
    "            return tf_name.upper()[:-1]\n",
    "        else:\n",
    "            return tf_name\n",
    "    \n",
    "    yeastract_data = pd.read_csv(yeastract_csv_filename, sep= \";\")\n",
    "    gene_to_orf_df = pd.read_csv(gene_to_orf_filename)\n",
    "    \n",
    "    tf_list = list(yeastract_data['6855'])\n",
    "    gene_list = list(yeastract_data.columns.values)[1:]\n",
    "    \n",
    "    # Fix dataframe so it has right things as rownames.\n",
    "    yeastract_data = yeastract_data.rename(index=yeastract_data['6855'])\n",
    "    yeastract_data = yeastract_data.iloc[:, 1:]\n",
    "    \n",
    "    tf_list = [tf_to_gene(tf) for tf in tf_list]\n",
    "    if as_orf:\n",
    "        gene_to_orf = dict(zip(list(gene_to_orf_df.iloc[:,0]), list(gene_to_orf_df.iloc[:,2])))\n",
    "        \n",
    "        rownames = [gene_to_orf[tf] for tf in tf_list]\n",
    "        # Change to TF if possible, otherwise keep same name.\n",
    "        colnames = [gene_to_orf.get(gene, gene) for gene in gene_list]\n",
    "    else:\n",
    "        rownames = tf_list\n",
    "        colnames = gene_list\n",
    "    \n",
    "    final_data = pd.DataFrame(np.array(yeastract_data), index=rownames, columns=colnames)\n",
    "    \n",
    "    return final_data\n",
    "\n",
    "def get_gasch_data(gasch_data_filename=\"complete_dataset_gasch.txt\", \n",
    "                   orf_to_gene_filename=\"orfname_time_course_fixed.csv\",\n",
    "                   supset=None ,\n",
    "                   as_orf=False):\n",
    "    '''\n",
    "    Returns heat shock time-course data from Gasch as DataFrame.\n",
    "    '''\n",
    "    gasch_data = pd.read_csv(gasch_data_filename, sep=\"\\t\")\n",
    "#    gasch_data = gasch_data.iloc[:,:11] # Filter only heat-shock data from first experiment (hs-1).\n",
    "    \n",
    "    if not as_orf:\n",
    "        # Rename as genes.\n",
    "        orf_to_gene_df = pd.read_csv(orf_to_gene_filename)\n",
    "        orfs = list(orf_to_gene_df.iloc[:,0])\n",
    "        genes = list(orf_to_gene_df.iloc[:,3])\n",
    "        \n",
    "        # Remove unknowns, keep original name.\n",
    "        genes = [gene if gene != 'Unknown' else orfs[i] for i, gene in enumerate(genes)]\n",
    "        orf_to_gene = dict(zip(orfs, genes))\n",
    "        \n",
    "        orf_list = list(gasch_data[\"UID\"])\n",
    "        gene_names = [orf_to_gene.get(orf, orf) for orf in orf_list]\n",
    "        #print(gene_names)\n",
    "        gasch_data[\"UID\"] = gene_names\n",
    "        gasch_data = gasch_data.rename(index=gasch_data[\"UID\"])\n",
    "        gasch_data = gasch_data.iloc[:, 1:]\n",
    "        if supset != None:\n",
    "            to_delete = set(gene_names)-set(supset)\n",
    "            to_delete_list = list(to_delete)\n",
    "            gasch_data = gasch_data.drop(to_delete_list)\n",
    "    return gasch_data\n",
    "    \n",
    "\n",
    "def squarify(df, sort=False):\n",
    "    '''\n",
    "    Turns Yeastract DataFrame into a square dataframe (i.e. adjacency matrix).\n",
    "    '''\n",
    "    cols=list(df.columns)\n",
    "    rows=list(df.index)\n",
    "    d = []\n",
    "    for x in cols:\n",
    "        if x in rows:\n",
    "            d.append(list(df.loc[x]))\n",
    "        else:\n",
    "            d.append([0]*len(cols))\n",
    "    A = np.array(d)\n",
    "    return pd.DataFrame(A, index=cols, columns=cols)\n",
    "\n",
    "def reorder(target_orf, adj_matrix):\n",
    "    A = target_orf #input the list of target orf name\n",
    "    B = adj_matrix #input the adj matrix\n",
    "\n",
    "    #First we want to extract the header from the adj matrix and compare them with the list\n",
    "\n",
    "    B_header = list(B)\n",
    "\n",
    "    AB_diff = list(set(B_header) - set(A))\n",
    "    #print(set(A)<set(B_header))\n",
    "    A_total = A + AB_diff\n",
    "    B = B[A_total]\n",
    "    B = B.reindex(A_total)\n",
    "    return B"
   ]
  },
  {
   "cell_type": "code",
   "execution_count": 3,
   "metadata": {
    "collapsed": true,
    "deletable": true,
    "editable": true
   },
   "outputs": [],
   "source": [
    "# Read network data.\n",
    "yeastract_data_activation = get_yeastract_data(\"matrix_activator.csv\",\"tftoorf.csv\")\n",
    "yeastract_data_inhibition = get_yeastract_data(\"matrix_inhibitor.csv\",\"tftoorf.csv\")\n",
    "\n",
    "# Transform into matrices (as np.array).\n",
    "Aa = squarify(yeastract_data_activation)\n",
    "Ai = squarify(yeastract_data_inhibition)\n",
    "\n",
    "# Read timecourse data.\n",
    "cols = list(Aa.columns)\n",
    "gasch_data = get_gasch_data(\"complete_dataset_gasch.txt\",\"orfname_time_course_fixed.csv\",cols)\n",
    "\n",
    "# Reorder matrices to have same order than timecourse data.\n",
    "Aa = reorder(list(gasch_data.index), Aa)\n",
    "Ai = reorder(list(gasch_data.index), Ai)\n",
    "#gasch_esr = get_gasch_data(\"figure3_gasch_paper.cdt\",\"orfname_time_course_fixed.csv\",cols)"
   ]
  },
  {
   "cell_type": "code",
   "execution_count": 4,
   "metadata": {
    "collapsed": true,
    "deletable": true,
    "editable": true
   },
   "outputs": [],
   "source": [
    "def get_neighbors_subnetwork(network_act, network_inh, starters):\n",
    "    '''\n",
    "    network_act: Network of activators, network of inhibitors.\n",
    "    \n",
    "    Returns activator and inhibitor networks with starter nodes and direct downstream neighbors\n",
    "    (whether activators or inhibitors).\n",
    "    '''\n",
    "    neighbors = []\n",
    "    for tf in starters:\n",
    "        neighbors.extend(list(network_act.successors(tf)))\n",
    "        neighbors.extend(list(network_inh.successors(tf)))\n",
    "      \n",
    "    all_nodes = starters + neighbors\n",
    "    # Remove duplicates.\n",
    "    all_nodes = list(set(all_nodes))\n",
    "    return network_act.subgraph(all_nodes), network_inh.subgraph(all_nodes)"
   ]
  },
  {
   "cell_type": "code",
   "execution_count": 5,
   "metadata": {
    "collapsed": true,
    "deletable": true,
    "editable": true
   },
   "outputs": [],
   "source": [
    "network_act = nx.DiGraph(data=np.array(Aa))\n",
    "network_inh = nx.DiGraph(data=np.array(Ai))\n",
    "names = list(Aa)\n",
    "\n",
    "network_act = nx.relabel_nodes(network_act, {i:name for i, name in enumerate(names)})\n",
    "network_inh = nx.relabel_nodes(network_inh, {i:name for i, name in enumerate(names)})"
   ]
  },
  {
   "cell_type": "markdown",
   "metadata": {
    "deletable": true,
    "editable": true
   },
   "source": [
    "Since we're using different constants, we need to get the activator and inhibitor networks separately."
   ]
  },
  {
   "cell_type": "code",
   "execution_count": 6,
   "metadata": {
    "collapsed": true,
    "deletable": true,
    "editable": true
   },
   "outputs": [],
   "source": [
    "#These transcription factors are the ones we expect to turn on the heat shock response.\n",
    "heat_shock_starters = [\"HSF1\", \"MSN2\", \"MSN4\", \"RLM1\", \"SWI4\"]\n",
    "\n",
    "G1_act, G1_inh = get_neighbors_subnetwork(network_act, network_inh, heat_shock_starters)"
   ]
  },
  {
   "cell_type": "code",
   "execution_count": 7,
   "metadata": {
    "collapsed": true,
    "deletable": true,
    "editable": true
   },
   "outputs": [],
   "source": [
    "G1_act2, G1_inh2 = get_neighbors_subnetwork(network_act, network_inh, list(G1_act.nodes()))"
   ]
  },
  {
   "cell_type": "code",
   "execution_count": 8,
   "metadata": {
    "collapsed": false,
    "deletable": true,
    "editable": true
   },
   "outputs": [
    {
     "data": {
      "text/plain": [
       "1727"
      ]
     },
     "execution_count": 8,
     "metadata": {},
     "output_type": "execute_result"
    }
   ],
   "source": [
    "len(G1_act2.nodes())"
   ]
  },
  {
   "cell_type": "markdown",
   "metadata": {
    "deletable": true,
    "editable": true
   },
   "source": [
    "### Model definition for heat shock subnetwork"
   ]
  },
  {
   "cell_type": "code",
   "execution_count": 9,
   "metadata": {
    "collapsed": true,
    "deletable": true,
    "editable": true
   },
   "outputs": [],
   "source": [
    "# Get activator and inhibitor matrices for subnetwork.\n",
    "Aa_hsf = nx.adjacency_matrix(G1_act).toarray()\n",
    "Ai_hsf = nx.adjacency_matrix(G1_inh).toarray()\n",
    "\n",
    "# Take transpose to match what we need for modeling.\n",
    "Aa_hsf, Ai_hsf = Aa_hsf.transpose(), Ai_hsf.transpose()"
   ]
  },
  {
   "cell_type": "code",
   "execution_count": 10,
   "metadata": {
    "collapsed": false,
    "deletable": true,
    "editable": true
   },
   "outputs": [],
   "source": [
    "# Get activator and inhibitor matrices for subnetwork.\n",
    "Aa_hsf2 = nx.adjacency_matrix(G1_act2).toarray()\n",
    "Ai_hsf2 = nx.adjacency_matrix(G1_inh2).toarray()\n",
    "\n",
    "# Take transpose to match what we need for modeling.\n",
    "Aa_hsf2, Ai_hsf2 = Aa_hsf2.transpose(), Ai_hsf2.transpose()"
   ]
  },
  {
   "cell_type": "code",
   "execution_count": 11,
   "metadata": {
    "collapsed": false,
    "deletable": true,
    "editable": true
   },
   "outputs": [
    {
     "data": {
      "text/plain": [
       "1727"
      ]
     },
     "execution_count": 11,
     "metadata": {},
     "output_type": "execute_result"
    }
   ],
   "source": [
    "len(Aa_hsf2)"
   ]
  },
  {
   "cell_type": "code",
   "execution_count": 12,
   "metadata": {
    "collapsed": false,
    "deletable": true,
    "editable": true
   },
   "outputs": [
    {
     "data": {
      "text/plain": [
       "1727"
      ]
     },
     "execution_count": 12,
     "metadata": {},
     "output_type": "execute_result"
    }
   ],
   "source": [
    "len(Ai_hsf2)"
   ]
  },
  {
   "cell_type": "code",
   "execution_count": 13,
   "metadata": {
    "collapsed": true,
    "deletable": true,
    "editable": true
   },
   "outputs": [],
   "source": [
    "nodes = list(set(list(G1_act2.nodes()) + list(G1_inh2.nodes())))"
   ]
  },
  {
   "cell_type": "code",
   "execution_count": 14,
   "metadata": {
    "collapsed": true,
    "deletable": true,
    "editable": true
   },
   "outputs": [],
   "source": [
    "# Model 1: mRNA only, separate inhibition and activation.\n",
    "def f(y, t0, u, ka, ki, kf, Aa, Ai):\n",
    "    '''\n",
    "    u: vector of initial conditions.\n",
    "    ka: activator strength.\n",
    "    ki: inhibitor strength.\n",
    "    kf: vector of feedbacks for each gene.\n",
    "    Aa, Ai: activator and inhibitor adj. matrices\n",
    "    '''\n",
    "    A = ka * Aa - ki * Ai\n",
    "    \n",
    "    #return (A - kf * np.identity(len(A))) @ y + u\n",
    "    return A @ y - kf * y + u\n",
    "\n",
    "# Model 2: mRNA only, separate inhibition and activation, max activation (tanh).\n",
    "def f2(y, t0, u, ka, ki, kf, k_max, k_width, Aa, Ai):\n",
    "    '''\n",
    "    u: vector of initial conditions.\n",
    "    ka: activator strength.\n",
    "    ki: inhibitor strength.\n",
    "    kf: vector of feedbacks for each gene.\n",
    "    Aa, Ai: activator and inhibitor adj. matrices\n",
    "    '''\n",
    "    A = ka * Aa - ki * Ai\n",
    "    \n",
    "    #return (A - kf * np.identity(len(A))) @ y + u\n",
    "    return k_max * np.tanh((A @ y) / k_width) - kf * y + u\n",
    "\n",
    "# Model 3: mRNA and protein, separate inhibition and activation, linear activation.\n",
    "def f3(y, t0, u, ka, ki, kf, k_prot, Aa, Ai):\n",
    "    '''\n",
    "    u: vector of initial conditions.\n",
    "    ka: activator strength.\n",
    "    ki: inhibitor strength.\n",
    "    kf: vector of feedbacks for each gene.\n",
    "    Aa, Ai: activator and inhibitor adj. matrices\n",
    "    '''\n",
    "    N =  len(y)\n",
    "    # Separate into mRNA and protein.\n",
    "    m = y[:N // 2]\n",
    "    p = y[N //2:]\n",
    "    \n",
    "    A = ka * Aa - ki * Ai\n",
    "    \n",
    "    dm = (A @ p) - kf * p + u\n",
    "    dp = k_prot * (m - p)\n",
    "    #return (A - kf * np.identity(len(A))) @ y + u\n",
    "    return np.concatenate((dm, dp))\n",
    "\n",
    "# Model 4: mRNA and protein, separate inhibition and activation, max activation (tanh).\n",
    "def f4(y, t0, u, ka, ki, kf, k_max, k_width, k_prot, Aa, Ai):\n",
    "    '''\n",
    "    u: vector of initial conditions.\n",
    "    ka: activator strength.\n",
    "    ki: inhibitor strength.\n",
    "    kf: vector of feedbacks for each gene.\n",
    "    Aa, Ai: activator and inhibitor adj. matrices\n",
    "    '''\n",
    "    N =  len(y)\n",
    "    # Separate into mRNA and protein.\n",
    "    m = y[:N // 2]\n",
    "    p = y[N //2:]\n",
    "    \n",
    "    A = ka * Aa - ki * Ai\n",
    "    \n",
    "    dm = k_max * np.tanh(A @ p / k_width) - kf * p + u\n",
    "    dp = k_prot * (m - p)\n",
    "    #return (A - kf * np.identity(len(A))) @ y + u\n",
    "    return np.concatenate((dm, dp))"
   ]
  },
  {
   "cell_type": "markdown",
   "metadata": {
    "deletable": true,
    "editable": true
   },
   "source": [
    "### Brief model test\n",
    "\n",
    "This is just a test to see if the modifications I did to the model change anything or not."
   ]
  },
  {
   "cell_type": "markdown",
   "metadata": {
    "deletable": true,
    "editable": true
   },
   "source": [
    "#### Ka and Ki"
   ]
  },
  {
   "cell_type": "code",
   "execution_count": 18,
   "metadata": {
    "collapsed": false,
    "deletable": true,
    "editable": true
   },
   "outputs": [
    {
     "ename": "KeyboardInterrupt",
     "evalue": "",
     "output_type": "error",
     "traceback": [
      "\u001b[0;31m---------------------------------------------------------------------------\u001b[0m",
      "\u001b[0;31mKeyboardInterrupt\u001b[0m                         Traceback (most recent call last)",
      "\u001b[0;32m<ipython-input-18-5f45f4401376>\u001b[0m in \u001b[0;36m<module>\u001b[0;34m()\u001b[0m\n\u001b[1;32m      4\u001b[0m \u001b[0;34m\u001b[0m\u001b[0m\n\u001b[1;32m      5\u001b[0m \u001b[0mkf\u001b[0m \u001b[0;34m=\u001b[0m \u001b[0;34m[\u001b[0m\u001b[0;36m0.1\u001b[0m\u001b[0;34m]\u001b[0m \u001b[0;34m*\u001b[0m \u001b[0mlen\u001b[0m\u001b[0;34m(\u001b[0m\u001b[0mAa_hsf2\u001b[0m\u001b[0;34m)\u001b[0m\u001b[0;34m\u001b[0m\u001b[0m\n\u001b[0;32m----> 6\u001b[0;31m \u001b[0my\u001b[0m \u001b[0;34m=\u001b[0m \u001b[0modeint\u001b[0m\u001b[0;34m(\u001b[0m\u001b[0mf\u001b[0m\u001b[0;34m,\u001b[0m \u001b[0my0\u001b[0m\u001b[0;34m=\u001b[0m\u001b[0my0\u001b[0m\u001b[0;34m,\u001b[0m \u001b[0mt\u001b[0m\u001b[0;34m=\u001b[0m\u001b[0mtimes\u001b[0m\u001b[0;34m,\u001b[0m \u001b[0margs\u001b[0m\u001b[0;34m=\u001b[0m\u001b[0;34m(\u001b[0m\u001b[0mu\u001b[0m\u001b[0;34m,\u001b[0m \u001b[0;36m0.3\u001b[0m\u001b[0;34m,\u001b[0m \u001b[0;36m0.3\u001b[0m\u001b[0;34m,\u001b[0m \u001b[0mkf\u001b[0m\u001b[0;34m,\u001b[0m \u001b[0mAa_hsf2\u001b[0m\u001b[0;34m,\u001b[0m \u001b[0mAi_hsf2\u001b[0m\u001b[0;34m)\u001b[0m\u001b[0;34m)\u001b[0m\u001b[0;34m\u001b[0m\u001b[0m\n\u001b[0m",
      "\u001b[0;32m/Library/Frameworks/Python.framework/Versions/3.6/lib/python3.6/site-packages/scipy/integrate/odepack.py\u001b[0m in \u001b[0;36modeint\u001b[0;34m(func, y0, t, args, Dfun, col_deriv, full_output, ml, mu, rtol, atol, tcrit, h0, hmax, hmin, ixpr, mxstep, mxhnil, mxordn, mxords, printmessg)\u001b[0m\n\u001b[1;32m    213\u001b[0m     output = _odepack.odeint(func, y0, t, args, Dfun, col_deriv, ml, mu,\n\u001b[1;32m    214\u001b[0m                              \u001b[0mfull_output\u001b[0m\u001b[0;34m,\u001b[0m \u001b[0mrtol\u001b[0m\u001b[0;34m,\u001b[0m \u001b[0matol\u001b[0m\u001b[0;34m,\u001b[0m \u001b[0mtcrit\u001b[0m\u001b[0;34m,\u001b[0m \u001b[0mh0\u001b[0m\u001b[0;34m,\u001b[0m \u001b[0mhmax\u001b[0m\u001b[0;34m,\u001b[0m \u001b[0mhmin\u001b[0m\u001b[0;34m,\u001b[0m\u001b[0;34m\u001b[0m\u001b[0m\n\u001b[0;32m--> 215\u001b[0;31m                              ixpr, mxstep, mxhnil, mxordn, mxords)\n\u001b[0m\u001b[1;32m    216\u001b[0m     \u001b[0;32mif\u001b[0m \u001b[0moutput\u001b[0m\u001b[0;34m[\u001b[0m\u001b[0;34m-\u001b[0m\u001b[0;36m1\u001b[0m\u001b[0;34m]\u001b[0m \u001b[0;34m<\u001b[0m \u001b[0;36m0\u001b[0m\u001b[0;34m:\u001b[0m\u001b[0;34m\u001b[0m\u001b[0m\n\u001b[1;32m    217\u001b[0m         \u001b[0mwarning_msg\u001b[0m \u001b[0;34m=\u001b[0m \u001b[0m_msgs\u001b[0m\u001b[0;34m[\u001b[0m\u001b[0moutput\u001b[0m\u001b[0;34m[\u001b[0m\u001b[0;34m-\u001b[0m\u001b[0;36m1\u001b[0m\u001b[0;34m]\u001b[0m\u001b[0;34m]\u001b[0m \u001b[0;34m+\u001b[0m \u001b[0;34m\" Run with full_output = 1 to get quantitative information.\"\u001b[0m\u001b[0;34m\u001b[0m\u001b[0m\n",
      "\u001b[0;32m<ipython-input-15-a483ef589a77>\u001b[0m in \u001b[0;36mf\u001b[0;34m(y, t0, u, ka, ki, kf, Aa, Ai)\u001b[0m\n\u001b[1;32m      8\u001b[0m     \u001b[0mAa\u001b[0m\u001b[0;34m,\u001b[0m \u001b[0mAi\u001b[0m\u001b[0;34m:\u001b[0m \u001b[0mactivator\u001b[0m \u001b[0;32mand\u001b[0m \u001b[0minhibitor\u001b[0m \u001b[0madj\u001b[0m\u001b[0;34m.\u001b[0m \u001b[0mmatrices\u001b[0m\u001b[0;34m\u001b[0m\u001b[0m\n\u001b[1;32m      9\u001b[0m     '''\n\u001b[0;32m---> 10\u001b[0;31m     \u001b[0mA\u001b[0m \u001b[0;34m=\u001b[0m \u001b[0mka\u001b[0m \u001b[0;34m*\u001b[0m \u001b[0mAa\u001b[0m \u001b[0;34m-\u001b[0m \u001b[0mki\u001b[0m \u001b[0;34m*\u001b[0m \u001b[0mAi\u001b[0m\u001b[0;34m\u001b[0m\u001b[0m\n\u001b[0m\u001b[1;32m     11\u001b[0m \u001b[0;34m\u001b[0m\u001b[0m\n\u001b[1;32m     12\u001b[0m     \u001b[0;31m#return (A - kf * np.identity(len(A))) @ y + u\u001b[0m\u001b[0;34m\u001b[0m\u001b[0;34m\u001b[0m\u001b[0m\n",
      "\u001b[0;31mKeyboardInterrupt\u001b[0m: "
     ]
    }
   ],
   "source": [
    "u = 0.05 * np.array([1.0 if node in heat_shock_starters else 0.0 for node in G1_act2.nodes()])\n",
    "y0 = [0.0] * len(Aa_hsf2)\n",
    "times = np.array([0, 5, 10, 15, 20, 30, 40, 60, 80])\n",
    "\n",
    "kf = [0.1] * len(Aa_hsf2)\n",
    "y = odeint(f, y0=y0, t=times, args=(u, 0.3, 0.3, kf, Aa_hsf2, Ai_hsf2))"
   ]
  },
  {
   "cell_type": "code",
   "execution_count": null,
   "metadata": {
    "collapsed": true,
    "deletable": true,
    "editable": true
   },
   "outputs": [],
   "source": [
    "nodes = list(G1_act2.nodes())\n",
    "hsf_index = nodes.index(\"HSF1\")"
   ]
  },
  {
   "cell_type": "code",
   "execution_count": null,
   "metadata": {
    "collapsed": false,
    "deletable": true,
    "editable": true
   },
   "outputs": [],
   "source": [
    "real_data = gasch_data.iloc[:, 2:10].loc[\"HSF1\"]\n",
    "plt.plot(times, [0] + list(real_data), '.r', label=\"data\")\n",
    "plt.plot(times, y[:, hsf_index], '-', label=\"simulation\")\n",
    "plt.legend(loc=\"lower right\")\n",
    "plt.show()"
   ]
  },
  {
   "cell_type": "markdown",
   "metadata": {
    "deletable": true,
    "editable": true
   },
   "source": [
    "### Protein model."
   ]
  },
  {
   "cell_type": "code",
   "execution_count": 15,
   "metadata": {
    "collapsed": true,
    "deletable": true,
    "editable": true
   },
   "outputs": [],
   "source": [
    "u = 0.03 * np.array([1.0 if node in heat_shock_starters else 0.0 for node in G1_act.nodes()])\n",
    "y0 = [0.0] * len(Aa_hsf) * 2\n",
    "times = np.array([0, 5, 10, 15, 20, 30, 40, 60, 80])\n",
    "\n",
    "kf = [0.1] * len(Aa_hsf)\n",
    "k_prot = 0.08\n",
    "y = odeint(f3, y0=y0, t=times, args=(u, 0.3, 0.3, kf, k_prot, Aa_hsf, Ai_hsf))"
   ]
  },
  {
   "cell_type": "code",
   "execution_count": 16,
   "metadata": {
    "collapsed": false,
    "deletable": true,
    "editable": true
   },
   "outputs": [
    {
     "ename": "NameError",
     "evalue": "name 'hsf_index' is not defined",
     "output_type": "error",
     "traceback": [
      "\u001b[0;31m---------------------------------------------------------------------------\u001b[0m",
      "\u001b[0;31mNameError\u001b[0m                                 Traceback (most recent call last)",
      "\u001b[0;32m<ipython-input-16-117ecfca035d>\u001b[0m in \u001b[0;36m<module>\u001b[0;34m()\u001b[0m\n\u001b[1;32m      1\u001b[0m \u001b[0mreal_data\u001b[0m \u001b[0;34m=\u001b[0m \u001b[0mgasch_data\u001b[0m\u001b[0;34m.\u001b[0m\u001b[0miloc\u001b[0m\u001b[0;34m[\u001b[0m\u001b[0;34m:\u001b[0m\u001b[0;34m,\u001b[0m \u001b[0;36m2\u001b[0m\u001b[0;34m:\u001b[0m\u001b[0;36m10\u001b[0m\u001b[0;34m]\u001b[0m\u001b[0;34m.\u001b[0m\u001b[0mloc\u001b[0m\u001b[0;34m[\u001b[0m\u001b[0;34m\"HSF1\"\u001b[0m\u001b[0;34m]\u001b[0m\u001b[0;34m\u001b[0m\u001b[0m\n\u001b[1;32m      2\u001b[0m \u001b[0mplt\u001b[0m\u001b[0;34m.\u001b[0m\u001b[0mplot\u001b[0m\u001b[0;34m(\u001b[0m\u001b[0mtimes\u001b[0m\u001b[0;34m,\u001b[0m \u001b[0;34m[\u001b[0m\u001b[0;36m0\u001b[0m\u001b[0;34m]\u001b[0m \u001b[0;34m+\u001b[0m \u001b[0mlist\u001b[0m\u001b[0;34m(\u001b[0m\u001b[0mreal_data\u001b[0m\u001b[0;34m)\u001b[0m\u001b[0;34m,\u001b[0m \u001b[0;34m'.r'\u001b[0m\u001b[0;34m,\u001b[0m \u001b[0mlabel\u001b[0m\u001b[0;34m=\u001b[0m\u001b[0;34m\"data\"\u001b[0m\u001b[0;34m)\u001b[0m\u001b[0;34m\u001b[0m\u001b[0m\n\u001b[0;32m----> 3\u001b[0;31m \u001b[0mplt\u001b[0m\u001b[0;34m.\u001b[0m\u001b[0mplot\u001b[0m\u001b[0;34m(\u001b[0m\u001b[0mtimes\u001b[0m\u001b[0;34m,\u001b[0m \u001b[0my\u001b[0m\u001b[0;34m[\u001b[0m\u001b[0;34m:\u001b[0m\u001b[0;34m,\u001b[0m \u001b[0mhsf_index\u001b[0m\u001b[0;34m]\u001b[0m\u001b[0;34m,\u001b[0m \u001b[0;34m'-'\u001b[0m\u001b[0;34m,\u001b[0m \u001b[0mlabel\u001b[0m\u001b[0;34m=\u001b[0m\u001b[0;34m\"simulation\"\u001b[0m\u001b[0;34m)\u001b[0m\u001b[0;34m\u001b[0m\u001b[0m\n\u001b[0m\u001b[1;32m      4\u001b[0m \u001b[0mplt\u001b[0m\u001b[0;34m.\u001b[0m\u001b[0mlegend\u001b[0m\u001b[0;34m(\u001b[0m\u001b[0mloc\u001b[0m\u001b[0;34m=\u001b[0m\u001b[0;34m\"lower right\"\u001b[0m\u001b[0;34m)\u001b[0m\u001b[0;34m\u001b[0m\u001b[0m\n\u001b[1;32m      5\u001b[0m \u001b[0mplt\u001b[0m\u001b[0;34m.\u001b[0m\u001b[0mshow\u001b[0m\u001b[0;34m(\u001b[0m\u001b[0;34m)\u001b[0m\u001b[0;34m\u001b[0m\u001b[0m\n",
      "\u001b[0;31mNameError\u001b[0m: name 'hsf_index' is not defined"
     ]
    }
   ],
   "source": [
    "real_data = gasch_data.iloc[:, 2:10].loc[\"HSF1\"]\n",
    "plt.plot(times, [0] + list(real_data), '.r', label=\"data\")\n",
    "plt.plot(times, y[:, hsf_index], '-', label=\"simulation\")\n",
    "plt.legend(loc=\"lower right\")\n",
    "plt.show()"
   ]
  },
  {
   "cell_type": "markdown",
   "metadata": {
    "deletable": true,
    "editable": true
   },
   "source": [
    "OK, so this seems to be working. Now let's try and do the error function."
   ]
  },
  {
   "cell_type": "code",
   "execution_count": 49,
   "metadata": {
    "collapsed": true,
    "deletable": true,
    "editable": true
   },
   "outputs": [],
   "source": [
    "def error(params, y_data, N, hss_indices, n_hss=5):\n",
    "    '''\n",
    "    params: Parameter vector.\n",
    "    y_data: Real data.\n",
    "    N: Number of genes/nodes.\n",
    "    hss_indices: gene indices of heat shock starters\n",
    "    n_hss: Number of heat shock starters.\n",
    "    \n",
    "    returns: MSE of model predictions with specified parameters.\n",
    "\n",
    "    '''\n",
    "    # Strength of activation for HSS (heat shock starters).\n",
    "    u0 = params[:n_hss]\n",
    "    # Feedback strength for HSS.\n",
    "    kf0 = params[n_hss: 2 * n_hss]\n",
    "    # General activation, inhibition and feedback constants.\n",
    "    ka, ki, kf = params[-3:]\n",
    "    \n",
    "    # Set initial conditions and inputs to zero for everything\n",
    "    # (HSS conditions are changed later).\n",
    "    y0 = np.zeros(N)\n",
    "    u = np.zeros(N)\n",
    "    kf = np.repeat(kf, N)\n",
    "    \n",
    "    # Change inputs and feedback constant for HSS.\n",
    "    for i, index in enumerate(hss_indices):\n",
    "        u[index] = u0[i]\n",
    "        kf[index] = kf0[i]\n",
    "    \n",
    "    y = odeint(f, y0=y0, t=np.array([5, 10, 15, 20, 30, 40, 60, 80]),\n",
    "               args=(u, ka, ki, kf, Aa_hsf, Ai_hsf))\n",
    "    \n",
    "    # Return mean absolute error.\n",
    "    return np.nanmedian(np.abs(y - y_data))\n",
    "\n",
    "def error2(params, y_data, N, hss_indices, n_hss=5):\n",
    "    '''\n",
    "    params: Parameter vector.\n",
    "    y_data: Real data.\n",
    "    N: Number of genes/nodes.\n",
    "    hss_indices: gene indices of heat shock starters\n",
    "    n_hss: Number of heat shock starters.\n",
    "    \n",
    "    returns: MSE of model predictions with specified parameters.\n",
    "    \n",
    "    '''\n",
    "    # Strength of activation for HSS (heat shock starters).\n",
    "    u0 = params[:n_hss]\n",
    "    # Feedback strength for HSS.\n",
    "    kf0 = params[n_hss: 2 * n_hss]\n",
    "    # General activation, inhibition and feedback constants.\n",
    "    ka, ki, kf, k_max, k_width = params[-5:]\n",
    "    \n",
    "    # Set initial conditions and inputs to zero for everything\n",
    "    # (HSS conditions are changed later).\n",
    "    y0 = np.zeros(N)\n",
    "    u = np.zeros(N)\n",
    "    kf = np.repeat(kf, N)\n",
    "    \n",
    "    # Change inputs and feedback constant for HSS.\n",
    "    for i, index in enumerate(hss_indices):\n",
    "        u[index] = u0[i]\n",
    "        kf[index] = kf0[i]\n",
    "    \n",
    "    y = odeint(f2, y0=y0, t=np.array([5, 10, 15, 20, 30, 40, 60, 80]),\n",
    "               args=(u, ka, ki, kf, k_max, k_width, Aa_hsf, Ai_hsf))\n",
    "    \n",
    "    # Return mean absolute error.\n",
    "    return np.nanmean(np.abs(y - y_data))\n",
    "\n",
    "def error3(params, y_data, N, hss_indices, n_hss=5):\n",
    "    '''\n",
    "    params: Parameter vector.\n",
    "    y_data: Real data.\n",
    "    N: Number of genes/nodes.\n",
    "    hss_indices: gene indices of heat shock starters\n",
    "    n_hss: Number of heat shock starters.\n",
    "    \n",
    "    returns: MSE of model predictions with specified parameters.\n",
    "\n",
    "    '''\n",
    "    # Strength of activation for HSS (heat shock starters).\n",
    "    u0 = params[:n_hss]\n",
    "    # Feedback strength for HSS.\n",
    "    kf0 = params[n_hss: 2 * n_hss]\n",
    "    # General activation, inhibition and feedback constants.\n",
    "    ka, ki, kf, k_prot = params[-4:]\n",
    "    \n",
    "    # Set initial conditions and inputs to zero for everything\n",
    "    # (HSS conditions are changed later).\n",
    "    y0 = np.zeros(N * 2)\n",
    "    u = np.zeros(N)\n",
    "    kf = np.repeat(kf, N)\n",
    "    \n",
    "    # Change inputs and feedback constant for HSS.\n",
    "    for i, index in enumerate(hss_indices):\n",
    "        u[index] = u0[i]\n",
    "        kf[index] = kf0[i]\n",
    "    \n",
    "    y = odeint(f3, y0=y0, t=np.array([5, 10, 15, 20, 30, 40, 60, 80]),\n",
    "               args=(u, ka, ki, kf, k_prot, Aa_hsf, Ai_hsf))\n",
    "    m = y[:,:N]\n",
    "    # Return mean absolute error.\n",
    "    return np.nanmean(np.abs(m - y_data))"
   ]
  },
  {
   "cell_type": "code",
   "execution_count": null,
   "metadata": {
    "collapsed": true,
    "deletable": true,
    "editable": true
   },
   "outputs": [],
   "source": [
    "def error_by_glist(func, y_data, y_pred, indices):\n",
    "    '''\n",
    "    func is the error function\n",
    "    glist is a boolean list for gene being considered or not, the index should match the y_data\n",
    "    '''\n",
    "    \n",
    "    return func(y_data[:,indices], y_pred[:,indices])\n",
    "\n",
    "def mad(y_data, y_pred):\n",
    "    return np.nanmean(np.abs(y_data - y_pred))"
   ]
  },
  {
   "cell_type": "markdown",
   "metadata": {
    "deletable": true,
    "editable": true
   },
   "source": [
    "## Test error function\n",
    "\n",
    "First, we need to get the real data in a format we can use."
   ]
  },
  {
   "cell_type": "code",
   "execution_count": 24,
   "metadata": {
    "collapsed": true,
    "deletable": true,
    "editable": true
   },
   "outputs": [],
   "source": [
    "y_data = gasch_data.iloc[:, 2:10].loc[nodes]\n",
    "y_data = np.array(y_data).transpose()"
   ]
  },
  {
   "cell_type": "code",
   "execution_count": 34,
   "metadata": {
    "collapsed": false,
    "deletable": true,
    "editable": true
   },
   "outputs": [
    {
     "data": {
      "text/plain": [
       "955"
      ]
     },
     "execution_count": 34,
     "metadata": {},
     "output_type": "execute_result"
    }
   ],
   "source": [
    "N"
   ]
  },
  {
   "cell_type": "code",
   "execution_count": 40,
   "metadata": {
    "collapsed": true,
    "deletable": true,
    "editable": true
   },
   "outputs": [],
   "source": [
    "N = len(nodes)\n",
    "hss_indices = [nodes.index(tf) for tf in heat_shock_starters]\n",
    "params = np.array([0.05] * 5 + [0.1] * 5 + [0.3, 0.3, 0.1])"
   ]
  },
  {
   "cell_type": "code",
   "execution_count": 41,
   "metadata": {
    "collapsed": false,
    "deletable": true,
    "editable": true
   },
   "outputs": [
    {
     "data": {
      "text/plain": [
       "[296, 676, 530, 881, 250]"
      ]
     },
     "execution_count": 41,
     "metadata": {},
     "output_type": "execute_result"
    }
   ],
   "source": [
    "hss_indices"
   ]
  },
  {
   "cell_type": "code",
   "execution_count": 44,
   "metadata": {
    "collapsed": true,
    "deletable": true,
    "editable": true
   },
   "outputs": [],
   "source": [
    "errors = error(params, y_data, N, hss_indices, n_hss=5)"
   ]
  },
  {
   "cell_type": "code",
   "execution_count": 28,
   "metadata": {
    "collapsed": false,
    "deletable": true,
    "editable": true
   },
   "outputs": [
    {
     "data": {
      "text/plain": [
       "296"
      ]
     },
     "execution_count": 28,
     "metadata": {},
     "output_type": "execute_result"
    }
   ],
   "source": [
    "hsf_index"
   ]
  },
  {
   "cell_type": "code",
   "execution_count": 48,
   "metadata": {
    "collapsed": false,
    "deletable": true,
    "editable": true
   },
   "outputs": [
    {
     "ename": "KeyboardInterrupt",
     "evalue": "",
     "output_type": "error",
     "traceback": [
      "\u001b[0;31m---------------------------------------------------------------------------\u001b[0m",
      "\u001b[0;31mKeyboardInterrupt\u001b[0m                         Traceback (most recent call last)",
      "\u001b[0;32m<ipython-input-48-d3cd621f8962>\u001b[0m in \u001b[0;36m<module>\u001b[0;34m()\u001b[0m\n\u001b[1;32m      1\u001b[0m fit_params = minimize(error, x0=params,\n\u001b[1;32m      2\u001b[0m                   \u001b[0margs\u001b[0m\u001b[0;34m=\u001b[0m\u001b[0;34m(\u001b[0m\u001b[0my_data\u001b[0m\u001b[0;34m,\u001b[0m \u001b[0mN\u001b[0m\u001b[0;34m,\u001b[0m \u001b[0mhss_indices\u001b[0m\u001b[0;34m,\u001b[0m \u001b[0;36m5\u001b[0m\u001b[0;34m)\u001b[0m\u001b[0;34m,\u001b[0m\u001b[0;34m\u001b[0m\u001b[0m\n\u001b[0;32m----> 3\u001b[0;31m                   bounds=[(0.01, 5)] * len(params))\n\u001b[0m",
      "\u001b[0;32m~/.pyenv/versions/3.6.2/lib/python3.6/site-packages/scipy/optimize/_minimize.py\u001b[0m in \u001b[0;36mminimize\u001b[0;34m(fun, x0, args, method, jac, hess, hessp, bounds, constraints, tol, callback, options)\u001b[0m\n\u001b[1;32m    448\u001b[0m     \u001b[0;32melif\u001b[0m \u001b[0mmeth\u001b[0m \u001b[0;34m==\u001b[0m \u001b[0;34m'l-bfgs-b'\u001b[0m\u001b[0;34m:\u001b[0m\u001b[0;34m\u001b[0m\u001b[0m\n\u001b[1;32m    449\u001b[0m         return _minimize_lbfgsb(fun, x0, args, jac, bounds,\n\u001b[0;32m--> 450\u001b[0;31m                                 callback=callback, **options)\n\u001b[0m\u001b[1;32m    451\u001b[0m     \u001b[0;32melif\u001b[0m \u001b[0mmeth\u001b[0m \u001b[0;34m==\u001b[0m \u001b[0;34m'tnc'\u001b[0m\u001b[0;34m:\u001b[0m\u001b[0;34m\u001b[0m\u001b[0m\n\u001b[1;32m    452\u001b[0m         return _minimize_tnc(fun, x0, args, jac, bounds, callback=callback,\n",
      "\u001b[0;32m~/.pyenv/versions/3.6.2/lib/python3.6/site-packages/scipy/optimize/lbfgsb.py\u001b[0m in \u001b[0;36m_minimize_lbfgsb\u001b[0;34m(fun, x0, args, jac, bounds, disp, maxcor, ftol, gtol, eps, maxfun, maxiter, iprint, callback, maxls, **unknown_options)\u001b[0m\n\u001b[1;32m    326\u001b[0m             \u001b[0;31m# until the completion of the current minimization iteration.\u001b[0m\u001b[0;34m\u001b[0m\u001b[0;34m\u001b[0m\u001b[0m\n\u001b[1;32m    327\u001b[0m             \u001b[0;31m# Overwrite f and g:\u001b[0m\u001b[0;34m\u001b[0m\u001b[0;34m\u001b[0m\u001b[0m\n\u001b[0;32m--> 328\u001b[0;31m             \u001b[0mf\u001b[0m\u001b[0;34m,\u001b[0m \u001b[0mg\u001b[0m \u001b[0;34m=\u001b[0m \u001b[0mfunc_and_grad\u001b[0m\u001b[0;34m(\u001b[0m\u001b[0mx\u001b[0m\u001b[0;34m)\u001b[0m\u001b[0;34m\u001b[0m\u001b[0m\n\u001b[0m\u001b[1;32m    329\u001b[0m         \u001b[0;32melif\u001b[0m \u001b[0mtask_str\u001b[0m\u001b[0;34m.\u001b[0m\u001b[0mstartswith\u001b[0m\u001b[0;34m(\u001b[0m\u001b[0;34mb'NEW_X'\u001b[0m\u001b[0;34m)\u001b[0m\u001b[0;34m:\u001b[0m\u001b[0;34m\u001b[0m\u001b[0m\n\u001b[1;32m    330\u001b[0m             \u001b[0;31m# new iteration\u001b[0m\u001b[0;34m\u001b[0m\u001b[0;34m\u001b[0m\u001b[0m\n",
      "\u001b[0;32m~/.pyenv/versions/3.6.2/lib/python3.6/site-packages/scipy/optimize/lbfgsb.py\u001b[0m in \u001b[0;36mfunc_and_grad\u001b[0;34m(x)\u001b[0m\n\u001b[1;32m    272\u001b[0m         \u001b[0;32mdef\u001b[0m \u001b[0mfunc_and_grad\u001b[0m\u001b[0;34m(\u001b[0m\u001b[0mx\u001b[0m\u001b[0;34m)\u001b[0m\u001b[0;34m:\u001b[0m\u001b[0;34m\u001b[0m\u001b[0m\n\u001b[1;32m    273\u001b[0m             \u001b[0mf\u001b[0m \u001b[0;34m=\u001b[0m \u001b[0mfun\u001b[0m\u001b[0;34m(\u001b[0m\u001b[0mx\u001b[0m\u001b[0;34m,\u001b[0m \u001b[0;34m*\u001b[0m\u001b[0margs\u001b[0m\u001b[0;34m)\u001b[0m\u001b[0;34m\u001b[0m\u001b[0m\n\u001b[0;32m--> 274\u001b[0;31m             \u001b[0mg\u001b[0m \u001b[0;34m=\u001b[0m \u001b[0m_approx_fprime_helper\u001b[0m\u001b[0;34m(\u001b[0m\u001b[0mx\u001b[0m\u001b[0;34m,\u001b[0m \u001b[0mfun\u001b[0m\u001b[0;34m,\u001b[0m \u001b[0mepsilon\u001b[0m\u001b[0;34m,\u001b[0m \u001b[0margs\u001b[0m\u001b[0;34m=\u001b[0m\u001b[0margs\u001b[0m\u001b[0;34m,\u001b[0m \u001b[0mf0\u001b[0m\u001b[0;34m=\u001b[0m\u001b[0mf\u001b[0m\u001b[0;34m)\u001b[0m\u001b[0;34m\u001b[0m\u001b[0m\n\u001b[0m\u001b[1;32m    275\u001b[0m             \u001b[0;32mreturn\u001b[0m \u001b[0mf\u001b[0m\u001b[0;34m,\u001b[0m \u001b[0mg\u001b[0m\u001b[0;34m\u001b[0m\u001b[0m\n\u001b[1;32m    276\u001b[0m     \u001b[0;32melse\u001b[0m\u001b[0;34m:\u001b[0m\u001b[0;34m\u001b[0m\u001b[0m\n",
      "\u001b[0;32m~/.pyenv/versions/3.6.2/lib/python3.6/site-packages/scipy/optimize/optimize.py\u001b[0m in \u001b[0;36m_approx_fprime_helper\u001b[0;34m(xk, f, epsilon, args, f0)\u001b[0m\n\u001b[1;32m    626\u001b[0m         \u001b[0mei\u001b[0m\u001b[0;34m[\u001b[0m\u001b[0mk\u001b[0m\u001b[0;34m]\u001b[0m \u001b[0;34m=\u001b[0m \u001b[0;36m1.0\u001b[0m\u001b[0;34m\u001b[0m\u001b[0m\n\u001b[1;32m    627\u001b[0m         \u001b[0md\u001b[0m \u001b[0;34m=\u001b[0m \u001b[0mepsilon\u001b[0m \u001b[0;34m*\u001b[0m \u001b[0mei\u001b[0m\u001b[0;34m\u001b[0m\u001b[0m\n\u001b[0;32m--> 628\u001b[0;31m         \u001b[0mgrad\u001b[0m\u001b[0;34m[\u001b[0m\u001b[0mk\u001b[0m\u001b[0;34m]\u001b[0m \u001b[0;34m=\u001b[0m \u001b[0;34m(\u001b[0m\u001b[0mf\u001b[0m\u001b[0;34m(\u001b[0m\u001b[0;34m*\u001b[0m\u001b[0;34m(\u001b[0m\u001b[0;34m(\u001b[0m\u001b[0mxk\u001b[0m \u001b[0;34m+\u001b[0m \u001b[0md\u001b[0m\u001b[0;34m,\u001b[0m\u001b[0;34m)\u001b[0m \u001b[0;34m+\u001b[0m \u001b[0margs\u001b[0m\u001b[0;34m)\u001b[0m\u001b[0;34m)\u001b[0m \u001b[0;34m-\u001b[0m \u001b[0mf0\u001b[0m\u001b[0;34m)\u001b[0m \u001b[0;34m/\u001b[0m \u001b[0md\u001b[0m\u001b[0;34m[\u001b[0m\u001b[0mk\u001b[0m\u001b[0;34m]\u001b[0m\u001b[0;34m\u001b[0m\u001b[0m\n\u001b[0m\u001b[1;32m    629\u001b[0m         \u001b[0mei\u001b[0m\u001b[0;34m[\u001b[0m\u001b[0mk\u001b[0m\u001b[0;34m]\u001b[0m \u001b[0;34m=\u001b[0m \u001b[0;36m0.0\u001b[0m\u001b[0;34m\u001b[0m\u001b[0m\n\u001b[1;32m    630\u001b[0m     \u001b[0;32mreturn\u001b[0m \u001b[0mgrad\u001b[0m\u001b[0;34m\u001b[0m\u001b[0m\n",
      "\u001b[0;32m~/.pyenv/versions/3.6.2/lib/python3.6/site-packages/scipy/optimize/optimize.py\u001b[0m in \u001b[0;36mfunction_wrapper\u001b[0;34m(*wrapper_args)\u001b[0m\n\u001b[1;32m    290\u001b[0m     \u001b[0;32mdef\u001b[0m \u001b[0mfunction_wrapper\u001b[0m\u001b[0;34m(\u001b[0m\u001b[0;34m*\u001b[0m\u001b[0mwrapper_args\u001b[0m\u001b[0;34m)\u001b[0m\u001b[0;34m:\u001b[0m\u001b[0;34m\u001b[0m\u001b[0m\n\u001b[1;32m    291\u001b[0m         \u001b[0mncalls\u001b[0m\u001b[0;34m[\u001b[0m\u001b[0;36m0\u001b[0m\u001b[0;34m]\u001b[0m \u001b[0;34m+=\u001b[0m \u001b[0;36m1\u001b[0m\u001b[0;34m\u001b[0m\u001b[0m\n\u001b[0;32m--> 292\u001b[0;31m         \u001b[0;32mreturn\u001b[0m \u001b[0mfunction\u001b[0m\u001b[0;34m(\u001b[0m\u001b[0;34m*\u001b[0m\u001b[0;34m(\u001b[0m\u001b[0mwrapper_args\u001b[0m \u001b[0;34m+\u001b[0m \u001b[0margs\u001b[0m\u001b[0;34m)\u001b[0m\u001b[0;34m)\u001b[0m\u001b[0;34m\u001b[0m\u001b[0m\n\u001b[0m\u001b[1;32m    293\u001b[0m \u001b[0;34m\u001b[0m\u001b[0m\n\u001b[1;32m    294\u001b[0m     \u001b[0;32mreturn\u001b[0m \u001b[0mncalls\u001b[0m\u001b[0;34m,\u001b[0m \u001b[0mfunction_wrapper\u001b[0m\u001b[0;34m\u001b[0m\u001b[0m\n",
      "\u001b[0;32m<ipython-input-43-89056aa08719>\u001b[0m in \u001b[0;36merror\u001b[0;34m(params, y_data, N, hss_indices, n_hss)\u001b[0m\n\u001b[1;32m     29\u001b[0m \u001b[0;34m\u001b[0m\u001b[0m\n\u001b[1;32m     30\u001b[0m     y = odeint(f, y0=y0, t=np.array([5, 10, 15, 20, 30, 40, 60, 80]),\n\u001b[0;32m---> 31\u001b[0;31m                args=(u, ka, ki, kf, Aa_hsf, Ai_hsf))\n\u001b[0m\u001b[1;32m     32\u001b[0m \u001b[0;34m\u001b[0m\u001b[0m\n\u001b[1;32m     33\u001b[0m     \u001b[0;31m# Return mean absolute error.\u001b[0m\u001b[0;34m\u001b[0m\u001b[0;34m\u001b[0m\u001b[0m\n",
      "\u001b[0;32m~/.pyenv/versions/3.6.2/lib/python3.6/site-packages/scipy/integrate/odepack.py\u001b[0m in \u001b[0;36modeint\u001b[0;34m(func, y0, t, args, Dfun, col_deriv, full_output, ml, mu, rtol, atol, tcrit, h0, hmax, hmin, ixpr, mxstep, mxhnil, mxordn, mxords, printmessg)\u001b[0m\n\u001b[1;32m    213\u001b[0m     output = _odepack.odeint(func, y0, t, args, Dfun, col_deriv, ml, mu,\n\u001b[1;32m    214\u001b[0m                              \u001b[0mfull_output\u001b[0m\u001b[0;34m,\u001b[0m \u001b[0mrtol\u001b[0m\u001b[0;34m,\u001b[0m \u001b[0matol\u001b[0m\u001b[0;34m,\u001b[0m \u001b[0mtcrit\u001b[0m\u001b[0;34m,\u001b[0m \u001b[0mh0\u001b[0m\u001b[0;34m,\u001b[0m \u001b[0mhmax\u001b[0m\u001b[0;34m,\u001b[0m \u001b[0mhmin\u001b[0m\u001b[0;34m,\u001b[0m\u001b[0;34m\u001b[0m\u001b[0m\n\u001b[0;32m--> 215\u001b[0;31m                              ixpr, mxstep, mxhnil, mxordn, mxords)\n\u001b[0m\u001b[1;32m    216\u001b[0m     \u001b[0;32mif\u001b[0m \u001b[0moutput\u001b[0m\u001b[0;34m[\u001b[0m\u001b[0;34m-\u001b[0m\u001b[0;36m1\u001b[0m\u001b[0;34m]\u001b[0m \u001b[0;34m<\u001b[0m \u001b[0;36m0\u001b[0m\u001b[0;34m:\u001b[0m\u001b[0;34m\u001b[0m\u001b[0m\n\u001b[1;32m    217\u001b[0m         \u001b[0mwarning_msg\u001b[0m \u001b[0;34m=\u001b[0m \u001b[0m_msgs\u001b[0m\u001b[0;34m[\u001b[0m\u001b[0moutput\u001b[0m\u001b[0;34m[\u001b[0m\u001b[0;34m-\u001b[0m\u001b[0;36m1\u001b[0m\u001b[0;34m]\u001b[0m\u001b[0;34m]\u001b[0m \u001b[0;34m+\u001b[0m \u001b[0;34m\" Run with full_output = 1 to get quantitative information.\"\u001b[0m\u001b[0;34m\u001b[0m\u001b[0m\n",
      "\u001b[0;32m<ipython-input-17-b8c4e44e5a2e>\u001b[0m in \u001b[0;36mf\u001b[0;34m(y, t0, u, ka, ki, kf, Aa, Ai)\u001b[0m\n\u001b[1;32m     11\u001b[0m \u001b[0;34m\u001b[0m\u001b[0m\n\u001b[1;32m     12\u001b[0m     \u001b[0;31m#return (A - kf * np.identity(len(A))) @ y + u\u001b[0m\u001b[0;34m\u001b[0m\u001b[0;34m\u001b[0m\u001b[0m\n\u001b[0;32m---> 13\u001b[0;31m     \u001b[0;32mreturn\u001b[0m \u001b[0mA\u001b[0m \u001b[0;34m@\u001b[0m \u001b[0my\u001b[0m \u001b[0;34m-\u001b[0m \u001b[0mkf\u001b[0m \u001b[0;34m*\u001b[0m \u001b[0my\u001b[0m \u001b[0;34m+\u001b[0m \u001b[0mu\u001b[0m\u001b[0;34m\u001b[0m\u001b[0m\n\u001b[0m\u001b[1;32m     14\u001b[0m \u001b[0;34m\u001b[0m\u001b[0m\n\u001b[1;32m     15\u001b[0m \u001b[0;31m# Model 2: mRNA only, separate inhibition and activation, max activation (tanh).\u001b[0m\u001b[0;34m\u001b[0m\u001b[0;34m\u001b[0m\u001b[0m\n",
      "\u001b[0;31mKeyboardInterrupt\u001b[0m: "
     ]
    }
   ],
   "source": [
    "fit_params = minimize(error, x0=params,\n",
    "                  args=(y_data, N, hss_indices, 5),\n",
    "                  bounds=[(0.01, 5)] * len(params))"
   ]
  },
  {
   "cell_type": "code",
   "execution_count": null,
   "metadata": {
    "collapsed": true,
    "deletable": true,
    "editable": true
   },
   "outputs": [],
   "source": [
    "fit_params.x"
   ]
  },
  {
   "cell_type": "code",
   "execution_count": 244,
   "metadata": {
    "collapsed": false,
    "deletable": true,
    "editable": true
   },
   "outputs": [
    {
     "name": "stderr",
     "output_type": "stream",
     "text": [
      "/home/mauricio/.pyenv/versions/3.6.2/lib/python3.6/site-packages/ipykernel_launcher.py:27: RuntimeWarning: invalid value encountered in true_divide\n"
     ]
    }
   ],
   "source": [
    "fit_params2 = minimize(error2, x0=np.array([0.02, 0.1, 0.3, 0.3, 0.1, 1, 1]),\n",
    "                  args=(y_data, N, hss_indices, 1),\n",
    "                  bounds=[(0.01, 5),\n",
    "                          (0.01, 5),\n",
    "                          (0.01, 5),\n",
    "                          (0.01, 5),\n",
    "                          (0.01, 5),\n",
    "                          (0, 5),\n",
    "                          (0, 5)])"
   ]
  },
  {
   "cell_type": "code",
   "execution_count": 255,
   "metadata": {
    "collapsed": false,
    "deletable": true,
    "editable": true
   },
   "outputs": [
    {
     "data": {
      "text/plain": [
       "      fun: 1.2402297693900686\n",
       " hess_inv: <7x7 LbfgsInvHessProduct with dtype=float64>\n",
       "      jac: array([ -3.47277762e-05,   1.76303416e-05,  -2.22044605e-08,\n",
       "        -2.61546340e-03,   3.46300766e-04,  -2.81596968e-04,\n",
       "         2.93498559e-04])\n",
       "  message: b'CONVERGENCE: REL_REDUCTION_OF_F_<=_FACTR*EPSMCH'\n",
       "     nfev: 912\n",
       "      nit: 38\n",
       "   status: 0\n",
       "  success: True\n",
       "        x: array([ 1.9368709 ,  3.81454556,  5.        ,  0.03345208,  2.67368671,\n",
       "        3.2886349 ,  0.29820731])"
      ]
     },
     "execution_count": 255,
     "metadata": {},
     "output_type": "execute_result"
    }
   ],
   "source": [
    "fit_params2"
   ]
  },
  {
   "cell_type": "code",
   "execution_count": 284,
   "metadata": {
    "collapsed": true,
    "deletable": true,
    "editable": true
   },
   "outputs": [],
   "source": [
    "fit_params3 = minimize(error3, x0=np.array([0.05, 0.1, 0.3, 0.3, 0.1, 0.1]),\n",
    "                  args=(y_data, N, hss_indices, 1),\n",
    "                  bounds=[(0.001, 5),\n",
    "                          (0.001, 5),\n",
    "                          (0.001, 5),\n",
    "                          (0.001, 5),\n",
    "                          (0.001, 5),\n",
    "                          (0, 5)])"
   ]
  },
  {
   "cell_type": "code",
   "execution_count": 285,
   "metadata": {
    "collapsed": false,
    "deletable": true,
    "editable": true
   },
   "outputs": [
    {
     "data": {
      "text/plain": [
       "array([  4.78130814e+00,   2.94501783e+00,   3.44441571e+00,\n",
       "         1.00000000e-03,   4.86268937e+00,   4.72634693e+00])"
      ]
     },
     "execution_count": 285,
     "metadata": {},
     "output_type": "execute_result"
    }
   ],
   "source": [
    "fit_params3.x"
   ]
  },
  {
   "cell_type": "code",
   "execution_count": 288,
   "metadata": {
    "collapsed": true,
    "deletable": true,
    "editable": true
   },
   "outputs": [],
   "source": [
    "def get_predictions(params, times=np.array([0, 5, 10, 15, 20, 30, 40, 60, 80]),\n",
    "                   n_hss=1):\n",
    "    # Strength of activation for HSS (heat shock starters).\n",
    "    u0 = params[:n_hss]\n",
    "    # Feedback strength for HSS.\n",
    "    kf0 = params[n_hss: 2 * n_hss]\n",
    "    # General activation, inhibition and feedback constants.\n",
    "    ka, ki, kf = params[-3:]\n",
    "    \n",
    "    # Set initial conditions and inputs to zero for everything\n",
    "    # (HSS conditions are changed later).\n",
    "    y0 = np.zeros(N)\n",
    "    u = np.zeros(N)\n",
    "    kf = np.repeat(kf, N)\n",
    "    \n",
    "    # Change inputs and feedback constant for HSS.\n",
    "    for i, index in enumerate(hss_indices):\n",
    "        u[index] = u0[i]\n",
    "        kf[index] = kf0[i]\n",
    "    \n",
    "    y = odeint(f, y0=y0, t=times,\n",
    "               args=(u, ka, ki, kf, Aa_hsf, Ai_hsf))\n",
    "    return y\n",
    "\n",
    "def get_predictions2(params, times=np.array([0, 5, 10, 15, 20, 30, 40, 60, 80]),\n",
    "                   n_hss=1):\n",
    "    # Strength of activation for HSS (heat shock starters).\n",
    "    u0 = params[:n_hss]\n",
    "    # Feedback strength for HSS.\n",
    "    kf0 = params[n_hss: 2 * n_hss]\n",
    "    # General activation, inhibition and feedback constants.\n",
    "    ka, ki, kf, k_max, k_width = params[-5:]\n",
    "    \n",
    "    # Set initial conditions and inputs to zero for everything\n",
    "    # (HSS conditions are changed later).\n",
    "    y0 = np.zeros(N)\n",
    "    u = np.zeros(N)\n",
    "    kf = np.repeat(kf, N)\n",
    "    \n",
    "    # Change inputs and feedback constant for HSS.\n",
    "    for i, index in enumerate(hss_indices):\n",
    "        u[index] = u0[i]\n",
    "        kf[index] = kf0[i]\n",
    "    \n",
    "    y = odeint(f2, y0=y0, t=times,\n",
    "               args=(u, ka, ki, kf, k_max, k_width, Aa_hsf, Ai_hsf))\n",
    "    return y\n",
    "\n",
    "def get_predictions3(params, times=np.array([0, 5, 10, 15, 20, 30, 40, 60, 80]),\n",
    "                   n_hss=1):\n",
    "    # Strength of activation for HSS (heat shock starters).\n",
    "    u0 = params[:n_hss]\n",
    "    # Feedback strength for HSS.\n",
    "    kf0 = params[n_hss: 2 * n_hss]\n",
    "    # General activation, inhibition and feedback constants.\n",
    "    ka, ki, kf, k_prot = params[-4:]\n",
    "    \n",
    "    # Set initial conditions and inputs to zero for everything\n",
    "    # (HSS conditions are changed later).\n",
    "    y0 = np.zeros(N * 2)\n",
    "    u = np.zeros(N)\n",
    "    kf = np.repeat(kf, N)\n",
    "    \n",
    "    # Change inputs and feedback constant for HSS.\n",
    "    for i, index in enumerate(hss_indices):\n",
    "        u[index] = u0[i]\n",
    "        kf[index] = kf0[i]\n",
    "    \n",
    "    y = odeint(f3, y0=y0, t=times,\n",
    "               args=(u, ka, ki, kf, k_prot, Aa_hsf, Ai_hsf))\n",
    "    return y[:,:N]"
   ]
  },
  {
   "cell_type": "code",
   "execution_count": 249,
   "metadata": {
    "collapsed": false,
    "deletable": true,
    "editable": true
   },
   "outputs": [
    {
     "data": {
      "image/png": "[encoded data removed]",
      "text/plain": [
       "<matplotlib.figure.Figure at 0x7faab9ba3a20>"
      ]
     },
     "metadata": {},
     "output_type": "display_data"
    }
   ],
   "source": [
    "y_pred = get_predictions2(fit_params2.x)\n",
    "\n",
    "real_data = gasch_data.iloc[:, 2:10].loc[\"HSF1\"]\n",
    "plt.plot(times, [0] + list(real_data), '.r', label=\"data\")\n",
    "plt.plot(times, y_pred[:, hsf_index], '-', label=\"simulation\")\n",
    "plt.legend(loc=\"lower right\")\n",
    "plt.show()"
   ]
  },
  {
   "cell_type": "code",
   "execution_count": null,
   "metadata": {
    "collapsed": true,
    "deletable": true,
    "editable": true
   },
   "outputs": [],
   "source": [
    "y_pred = get_predictions2(fit_params2.x)\n",
    "\n",
    "real_data = gasch_data.iloc[:, 2:10].loc[\"HSF1\"]\n",
    "plt.plot(times, [0] + list(real_data), '.r', label=\"data\")\n",
    "plt.plot(times, y_pred[:, hsf_index], '-', label=\"simulation\")\n",
    "plt.legend(loc=\"lower right\")\n",
    "plt.show()"
   ]
  },
  {
   "cell_type": "code",
   "execution_count": 251,
   "metadata": {
    "collapsed": false,
    "deletable": true,
    "editable": true
   },
   "outputs": [
    {
     "data": {
      "image/png": "[encoded data removed]",
      "text/plain": [
       "<matplotlib.figure.Figure at 0x7faab87b9128>"
      ]
     },
     "metadata": {},
     "output_type": "display_data"
    },
    {
     "data": {
      "image/png": "[encoded data removed]",
      "text/plain": [
       "<matplotlib.figure.Figure at 0x7faabb6bf048>"
      ]
     },
     "metadata": {},
     "output_type": "display_data"
    },
    {
     "data": {
      "image/png": "[encoded data removed]",
      "text/plain": [
       "<matplotlib.figure.Figure at 0x7faabbdafa20>"
      ]
     },
     "metadata": {},
     "output_type": "display_data"
    },
    {
     "data": {
      "image/png": "[encoded data removed]",
      "text/plain": [
       "<matplotlib.figure.Figure at 0x7faabcba9748>"
      ]
     },
     "metadata": {},
     "output_type": "display_data"
    }
   ],
   "source": [
    "y_pred = get_predictions2(fit_params2.x)\n",
    "for i in range(4, 8):\n",
    "    real_data = gasch_data.iloc[:, 2:10].iloc[i,:]\n",
    "    plt.plot(times, [0] + list(real_data), '.r', label=\"data\")\n",
    "    plt.plot(times, y_pred[:, i], '-', label=\"simulation\")\n",
    "    plt.legend(loc=\"lower right\")\n",
    "    plt.show()"
   ]
  },
  {
   "cell_type": "code",
   "execution_count": 290,
   "metadata": {
    "collapsed": false,
    "deletable": true,
    "editable": true
   },
   "outputs": [
    {
     "data": {
      "image/png": "[encoded data removed]",
      "text/plain": [
       "<matplotlib.figure.Figure at 0x7faabb6a05c0>"
      ]
     },
     "metadata": {},
     "output_type": "display_data"
    }
   ],
   "source": [
    "y_pred = get_predictions3(fit_params3.x)\n",
    "\n",
    "real_data = gasch_data.iloc[:, 2:10].loc[\"HSF1\"]\n",
    "plt.plot(times, [0] + list(real_data), '.r', label=\"data\")\n",
    "plt.plot(times, y_pred[:, hsf_index], '-', label=\"simulation\")\n",
    "plt.legend(loc=\"lower right\")\n",
    "plt.show()"
   ]
  },
  {
   "cell_type": "code",
   "execution_count": 289,
   "metadata": {
    "collapsed": false,
    "deletable": true,
    "editable": true
   },
   "outputs": [
    {
     "data": {
      "image/png": "[encoded data removed]",
      "text/plain": [
       "<matplotlib.figure.Figure at 0x7faab87d9c88>"
      ]
     },
     "metadata": {},
     "output_type": "display_data"
    },
    {
     "data": {
      "image/png": "[encoded data removed]",
      "text/plain": [
       "<matplotlib.figure.Figure at 0x7faaa3ba8e80>"
      ]
     },
     "metadata": {},
     "output_type": "display_data"
    },
    {
     "data": {
      "image/png": "[encoded data removed]",
      "text/plain": [
       "<matplotlib.figure.Figure at 0x7faabcc4ab70>"
      ]
     },
     "metadata": {},
     "output_type": "display_data"
    },
    {
     "data": {
      "image/png": "[encoded data removed]",
      "text/plain": [
       "<matplotlib.figure.Figure at 0x7faabb6e7a58>"
      ]
     },
     "metadata": {},
     "output_type": "display_data"
    }
   ],
   "source": [
    "y_pred = get_predictions3(fit_params3.x)\n",
    "for i in range(4, 8):\n",
    "    real_data = gasch_data.iloc[:, 2:10].iloc[i,:]\n",
    "    plt.plot(times, [0] + list(real_data), '.r', label=\"data\")\n",
    "    plt.plot(times, y_pred[:, i], '-', label=\"simulation\")\n",
    "    plt.legend(loc=\"lower right\")\n",
    "    plt.show()"
   ]
  },
  {
   "cell_type": "code",
   "execution_count": 205,
   "metadata": {
    "collapsed": false,
    "deletable": true,
    "editable": true
   },
   "outputs": [
    {
     "data": {
      "text/plain": [
       "1.03"
      ]
     },
     "execution_count": 205,
     "metadata": {},
     "output_type": "execute_result"
    }
   ],
   "source": [
    "error(np.array([0.0, 0.5, 0.3, 0.3, 0.1]), y_data, N, hss_indices, n_hss=1)"
   ]
  },
  {
   "cell_type": "code",
   "execution_count": 235,
   "metadata": {
    "collapsed": false,
    "deletable": true,
    "editable": true
   },
   "outputs": [
    {
     "data": {
      "image/png": "[encoded data removed]",
      "text/plain": [
       "<matplotlib.figure.Figure at 0x7faabcba9be0>"
      ]
     },
     "metadata": {},
     "output_type": "display_data"
    }
   ],
   "source": [
    "y_data = gasch_data.iloc[:, 2:10].loc[nodes]\n",
    "#y_data = [0] * len(y_data)\n",
    "plt.plot(times[1:], np.transpose(y_data), '-r', alpha=0.15)\n",
    "plt.plot(times, y_pred, '.-b', alpha=0.3)\n",
    "plt.xlim(0, 80)\n",
    "plt.ylim(-2, 2)\n",
    "plt.show()"
   ]
  },
  {
   "cell_type": "code",
   "execution_count": 254,
   "metadata": {
    "collapsed": false,
    "deletable": true,
    "editable": true
   },
   "outputs": [
    {
     "data": {
      "text/plain": [
       "array([1, 2, 3, 4])"
      ]
     },
     "execution_count": 254,
     "metadata": {},
     "output_type": "execute_result"
    }
   ],
   "source": [
    "np.concatenate((np.array([1,2]), np.array([3,4])))"
   ]
  },
  {
   "cell_type": "code",
   "execution_count": null,
   "metadata": {
    "collapsed": true,
    "deletable": true,
    "editable": true
   },
   "outputs": [],
   "source": []
  }
 ],
 "metadata": {
  "kernelspec": {
   "display_name": "Python 3",
   "language": "python",
   "name": "python3"
  },
  "language_info": {
   "codemirror_mode": {
    "name": "ipython",
    "version": 3
   },
   "file_extension": ".py",
   "mimetype": "text/x-python",
   "name": "python",
   "nbconvert_exporter": "python",
   "pygments_lexer": "ipython3",
   "version": "3.6.0"
  }
 },
 "nbformat": 4,
 "nbformat_minor": 2
}
